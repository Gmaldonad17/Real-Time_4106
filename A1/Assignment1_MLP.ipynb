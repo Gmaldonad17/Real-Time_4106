{
 "cells": [
  {
   "cell_type": "markdown",
   "id": "50609119-e1ed-47f3-9fb2-9f31a46b9463",
   "metadata": {},
   "source": [
    "# Assignment 1: Fashion and Housing Multi-layer Perceptron Model Training\n",
    "## Real-Time 4106\n",
    "### Gabriel Maldonado"
   ]
  },
  {
   "cell_type": "code",
   "execution_count": 1,
   "id": "c2d5af04-1aea-40d0-8e7e-d90ae1310e25",
   "metadata": {},
   "outputs": [
    {
     "name": "stderr",
     "output_type": "stream",
     "text": [
      "C:\\Users\\gmald\\anaconda3\\envs\\genml\\lib\\site-packages\\tqdm\\auto.py:22: TqdmWarning: IProgress not found. Please update jupyter and ipywidgets. See https://ipywidgets.readthedocs.io/en/stable/user_install.html\n",
      "  from .autonotebook import tqdm as notebook_tqdm\n"
     ]
    }
   ],
   "source": [
    "import cv2\n",
    "import numpy as np\n",
    "import pandas as pd\n",
    "from tqdm import tqdm\n",
    "from datetime import datetime\n",
    "from matplotlib import pyplot as plt\n",
    "\n",
    "import torch\n",
    "from torch import nn\n",
    "from torch.utils.data import DataLoader, random_split, Subset\n",
    "\n",
    "from torchvision import transforms, datasets \n",
    "from torchmetrics.classification import MulticlassAccuracy, BinaryAccuracy\n",
    "from torchmetrics import ConfusionMatrix\n",
    "\n",
    "import copy"
   ]
  },
  {
   "cell_type": "code",
   "execution_count": null,
   "id": "ef435688-843e-42ba-8516-66d2dfc8dcb7",
   "metadata": {},
   "outputs": [],
   "source": [
    "# Creates a large trainer class for training and saving metrics of our model\n",
    "class ModelTrainer:\n",
    "    \n",
    "    def __init__(self, model, loss, optimizer, accuracy, model_type, device, classes=0):\n",
    "        \n",
    "        # Sets model to GPU and basic loss function and optimizer used\n",
    "        self.device = device\n",
    "        self.model = model.to(device)\n",
    "        self.Loss_Function = loss\n",
    "        self.optimizer = optimizer\n",
    "        self.accuracy = accuracy\n",
    "        self.model_type = model_type\n",
    "        self.classNum = classes\n",
    "        \n",
    "        # Place to store metrics of our model throughout training and testing\n",
    "        self.Metrics = {\"Training Loss\":[], \"Validation Loss\":[], \n",
    "                        \"Training Accuracy\":[], \"Validation Accuracy\":[],\n",
    "                        \"Test Accuracy\":0} \n",
    "        \n",
    "        # Place to save confidence matrix \n",
    "        self.ConfMatrix = None\n",
    "    \n",
    "    # Defines the training loop for training our model\n",
    "    def Training_Loop(self, Loader):\n",
    "        \n",
    "        # Sets model into training mode\n",
    "        self.model.train()\n",
    "        \n",
    "        # Sets up metric grabing and an accuracy function\n",
    "        if self.model_type == \"Classification\":\n",
    "            MCA = self.accuracy(self.classNum)\n",
    "        else:\n",
    "            MCA = self.accuracy\n",
    "        \n",
    "        tLossSum = 0\n",
    "        tAccuracy = 0\n",
    "        \n",
    "        # Iterates through dataloader\n",
    "        for data, labels in tqdm(Loader):\n",
    "            \n",
    "            # Moves inputs and outputs to GPU and makes the labels one-hot vectors\n",
    "            data = data.to(self.device)\n",
    "            if self.model_type == \"Classification\":\n",
    "                labels = torch.eye(10)[labels]\n",
    "            else:\n",
    "                labels = labels.reshape(-1, 1)\n",
    "            labels = labels.to(self.device)\n",
    "            \n",
    "            # Model makes prediction which is passed into a loss function\n",
    "            pred = self.model(data)\n",
    "            loss_val = self.Loss_Function(pred, labels)\n",
    "            \n",
    "            # Backpropagation model etc, etc...\n",
    "            self.optimizer.zero_grad()\n",
    "            loss_val.backward()\n",
    "            self.optimizer.step()\n",
    "            \n",
    "            \n",
    "            # Set the predictions and labels back into integers for accuracy calculation\n",
    "            if self.model_type == \"Classification\":\n",
    "                pred = torch.Tensor([torch.argmax(i).item() for i in pred])\n",
    "                labels = torch.Tensor([torch.argmax(i).item() for i in labels])\n",
    "            \n",
    "            # Running Loss and accuracy\n",
    "            tLossSum += loss_val.item()\n",
    "            if self.model_type == \"Classification\":\n",
    "                tAccuracy += MCA(pred, labels)\n",
    "        \n",
    "        # Update metrics based on running loss and accuracy\n",
    "        self.Metrics[\"Training Loss\"].append(tLossSum / len(Loader))\n",
    "        if self.model_type == \"Classification\":\n",
    "            self.Metrics[\"Training Accuracy\"].append(tAccuracy / len(Loader))\n",
    "        \n",
    "        \n",
    "    # Defines a function for validating our model is generalizing\n",
    "    def Validation_Loop(self, Loader):\n",
    "        \n",
    "        # Sets model into evaluation mode\n",
    "        self.model.eval()\n",
    "        \n",
    "        # Sets up metric grabing and an accuracy function\n",
    "        if self.model_type == \"Classification\":\n",
    "            MCA = self.accuracy(self.classNum)\n",
    "        else:\n",
    "            MCA = self.accuracy\n",
    "            \n",
    "        tLossSum = 0\n",
    "        tAccuracy = 0\n",
    "        \n",
    "        # Iterates through dataloader\n",
    "        for data, labels in Loader:\n",
    "            \n",
    "            # Moves inputs and outputs to GPU and makes the labels one-hot vectors\n",
    "            data = data.to(self.device)\n",
    "            if self.model_type == \"Classification\":\n",
    "                labels = torch.eye(10)[labels]\n",
    "            else:\n",
    "                labels = labels.reshape(-1, 1)\n",
    "            labels = labels.to(self.device)\n",
    "            \n",
    "            # No Backpropagation, use no_grad to get simple prediction and loss\n",
    "            with torch.no_grad():\n",
    "                pred = self.model(data)\n",
    "            loss_val = self.Loss_Function(pred, labels)\n",
    "            \n",
    "            # Set the predictions and labels back into integers for accuracy calculation\n",
    "            if self.model_type == \"Classification\":\n",
    "                pred = torch.Tensor([torch.argmax(i).item() for i in pred])\n",
    "                labels = torch.Tensor([torch.argmax(i).item() for i in labels])\n",
    "            \n",
    "            # Running Loss and accuracy\n",
    "            tLossSum += loss_val.item()\n",
    "            if self.model_type == \"Classification\":\n",
    "                tAccuracy += MCA(pred, labels)\n",
    "            \n",
    "        # Update metrics based on running loss and accuracy\n",
    "        self.Metrics[\"Validation Loss\"].append(tLossSum / len(Loader))\n",
    "        if self.model_type == \"Classification\":\n",
    "            self.Metrics[\"Validation Accuracy\"].append(tAccuracy / len(Loader))\n",
    "        \n",
    "    \n",
    "    # Fits model to training while also validating model \n",
    "    def fit(self, trainingLoader, validateLoader, EPOCHS):\n",
    "        \n",
    "        \n",
    "        for i in range(EPOCHS):\n",
    "            \n",
    "            # Training and Validation loop\n",
    "            self.Validation_Loop(validateLoader)\n",
    "            self.Training_Loop(trainingLoader)\n",
    "                \n",
    "            # Print epoch metrics\n",
    "            print(\"EPOCH:\", i+1)\n",
    "            print(\"Training Loss:\", self.Metrics[\"Training Loss\"][-1], \" | Validation Loss:\", self.Metrics[\"Validation Loss\"][-1])\n",
    "            if self.model_type == \"Classification\":\n",
    "                print(\"Training Accuracy:\", self.Metrics[\"Training Accuracy\"][-1].item(), \" | Validation Accuracy:\", self.Metrics[\"Validation Accuracy\"][-1].item())\n",
    "            \n",
    "    \n",
    "    # Evaluate model on data unseen \n",
    "    def Test_Model(self, testLoader):\n",
    "        \n",
    "        # Sets model into evaluation mode\n",
    "        self.model.eval()\n",
    "        \n",
    "        # Sets up confusion matrix and accuracy\n",
    "        if self.model_type == \"Classification\":\n",
    "            confusion = ConfusionMatrix(task=\"multiclass\", num_classes=self.classNum)\n",
    "            MCA = self.accuracy(self.classNum)\n",
    "        else:\n",
    "            MCA = self.accuracy\n",
    "        \n",
    "        # A data structure for storing all labels and predictions\n",
    "        predMax = torch.empty(0)\n",
    "        labelMax = torch.empty(0)\n",
    "    \n",
    "        # Iterates through dataloader\n",
    "        for data, labels in testLoader:\n",
    "\n",
    "            # Moves inputs and outputs to GPU and makes the labels one-hot vectors\n",
    "            data = data.to(self.device)\n",
    "            if self.model_type == \"Classification\":\n",
    "                labels = torch.eye(10)[labels]\n",
    "            else:\n",
    "                labels = labels.reshape(-1, 1)\n",
    "            labels = labels.to(self.device)\n",
    "\n",
    "            # No Backpropagation, use no_grad to get simple prediction\n",
    "            with torch.no_grad():\n",
    "                pred = self.model(data)\n",
    "\n",
    "            # Set the predictions and labels back into integers for accuracy calculation\n",
    "            if self.model_type == \"Classification\":\n",
    "                pred = torch.Tensor([torch.argmax(i).item() for i in pred])\n",
    "                labels = torch.Tensor([torch.argmax(i).item() for i in labels])\n",
    "\n",
    "            # Concatenate labels to store and use later\n",
    "            predMax = torch.cat((predMax, pred))\n",
    "            labelMax = torch.cat((labelMax, labels))\n",
    "        \n",
    "        # Create confusion matrix and determine accuarcy \n",
    "        if self.model_type == \"Classification\":\n",
    "            self.ConfMatrix = confusion(predMax, labelMax)\n",
    "            self.Metrics[\"Test Accuracy\"] = MCA(predMax, labelMax).item()\n",
    "        \n",
    "    \n",
    "    # Show representations of model metrics\n",
    "    def Graph_Metrics(self):\n",
    "        \n",
    "        # Create subplots of a certain size and spacing\n",
    "        fig, (ax11, ax2) = plt.subplots(1, 2, figsize=(11,4))\n",
    "        fig.subplots_adjust(wspace=0.3)\n",
    "        \n",
    "        # Plot loss of both training and validation on a seperate axis\n",
    "        ax12 = ax11.twinx()\n",
    "        ax11.plot(self.Metrics[\"Training Loss\"], color='b')\n",
    "        ax11.plot(self.Metrics[\"Validation Loss\"], color='c')\n",
    "        ax11.set_ylabel(\"Loss\")\n",
    "        ax11.legend([\"Training Loss\", \"Validation Loss\"], bbox_to_anchor=(0.40, -0.3), loc='lower right', borderaxespad=0.5)\n",
    "        \n",
    "        # Plot accuracy of both training and validation on a seperate axis\n",
    "        if self.model_type == \"Classification\":\n",
    "            ax12.plot(self.Metrics[\"Training Accuracy\"], color='r')\n",
    "            ax12.plot(self.Metrics[\"Validation Accuracy\"], color='m')\n",
    "            ax12.set_ylabel(\"Percentage\")\n",
    "            ax12.legend([\"Training Accuracy\", \"Validation Accuracy\"], bbox_to_anchor=(1.02, -0.3), loc='lower right', borderaxespad=0.5)\n",
    "\n",
    "        ax11.set_title(\"Model Metrics Across Epochs\")\n",
    "\n",
    "        if self.model_type == \"Classification\":\n",
    "            ax2.imshow(self.ConfMatrix, cmap='Blues')\n",
    "\n",
    "            # Add total number of predictions for each box\n",
    "            for i in range(self.ConfMatrix.shape[0]):\n",
    "                for j in range(self.ConfMatrix.shape[1]):\n",
    "                    ax2.text(j, i, self.ConfMatrix[i, j].item(), ha='center', va='center', color='black')\n",
    "\n",
    "            # Removes y labels for confusion matrix\n",
    "            ax2.set_xticks([])\n",
    "            ax2.set_yticks([])\n",
    "\n",
    "            ax2.set_xlabel('Predicted labels')\n",
    "            ax2.set_ylabel('True labels')\n",
    "            ax2.set_title(\"Model Confusion Matrix for Test\")\n",
    "        \n",
    "    def reset(self):\n",
    "        \n",
    "        self.Metrics = {\"Training Loss\":[], \"Validation Loss\":[], \n",
    "                        \"Training Accuracy\":[], \"Validation Accuracy\":[],\n",
    "                        \"Test Accuracy\":0} \n",
    "        \n",
    "        # Place to save confidence matrix \n",
    "        self.ConfMatrix = None"
   ]
  },
  {
   "cell_type": "markdown",
   "id": "ae6a8caf-dfed-4b60-8dc5-760b2f483a50",
   "metadata": {},
   "source": [
    "## Problem 1 Fashion Dataset"
   ]
  },
  {
   "cell_type": "code",
   "execution_count": 2,
   "id": "011f0439-8023-4551-a9df-61ff6fbfd2d0",
   "metadata": {},
   "outputs": [],
   "source": [
    "# A class build to hold all configurations to train the model\n",
    "class Configuration:\n",
    "    def __init__(self, root, EPOCHS, LR, batchSize):\n",
    "        self.root = root\n",
    "        \n",
    "        self.EPOCHS = EPOCHS\n",
    "        self.lr = LR\n",
    "        self.bs = batchSize\n",
    "        self.train_validate_percent = 0.90\n",
    "        \n",
    "        self.device = torch.device(\"cuda\" if torch.cuda.is_available() else \"cpu\")\n",
    "\n",
    "config = Configuration(root=\"datasets\", EPOCHS=20, LR=0.01, batchSize=128)"
   ]
  },
  {
   "cell_type": "code",
   "execution_count": 3,
   "id": "581c3bbe-b7aa-45a8-857e-0c745bcfc314",
   "metadata": {},
   "outputs": [],
   "source": [
    "train_transform = transforms.Compose([\n",
    "                                        transforms.ToTensor(),\n",
    "                                        transforms.Normalize((0.2862), (0.3204)),\n",
    "])\n",
    "\n",
    "test_transform = transforms.Compose([\n",
    "                                        transforms.ToTensor(),\n",
    "                                        transforms.Normalize((0.2862), (0.3204)),\n",
    "])"
   ]
  },
  {
   "cell_type": "code",
   "execution_count": 4,
   "id": "c39123b0-efbd-484e-b843-3c88da5f89de",
   "metadata": {},
   "outputs": [
    {
     "name": "stdout",
     "output_type": "stream",
     "text": [
      "Train Dataset:\n",
      " 54000 \n",
      "\n",
      "Validation Dataset:\n",
      " 6000 \n",
      "\n",
      "Test Dataset:\n",
      " 10000\n"
     ]
    }
   ],
   "source": [
    "train_dataset = datasets.FashionMNIST(root=config.root, train=True, transform=train_transform)\n",
    "test_dataset = datasets.FashionMNIST(root=config.root, train=False, transform=test_transform)\n",
    "\n",
    "# Splits training dataset into training and validation sets\n",
    "validNum = int(len(train_dataset) * config.train_validate_percent)\n",
    "train_dataset, valid_dataset = random_split(train_dataset, [validNum, len(train_dataset) - validNum])\n",
    "\n",
    "\n",
    "print(\"Train Dataset:\\n\", len(train_dataset), \"\\n\\nValidation Dataset:\\n\", len(valid_dataset), \"\\n\\nTest Dataset:\\n\", len(test_dataset))"
   ]
  },
  {
   "cell_type": "code",
   "execution_count": 5,
   "id": "af50b016-cccd-443b-b1f8-bf2d22a274e5",
   "metadata": {},
   "outputs": [
    {
     "name": "stderr",
     "output_type": "stream",
     "text": [
      "100%|██████████████████████████████████████████████████████████████████████████| 10000/10000 [00:01<00:00, 6491.41it/s]"
     ]
    },
    {
     "name": "stdout",
     "output_type": "stream",
     "text": [
      "mean:  tensor(0.0020)\n",
      "std:  tensor(0.9990)\n"
     ]
    },
    {
     "name": "stderr",
     "output_type": "stream",
     "text": [
      "\n"
     ]
    }
   ],
   "source": [
    "# Determine Normalization of Images\n",
    "\n",
    "mean, std = 0., 0.\n",
    "for images, labels in tqdm(test_dataset):\n",
    "    images = images.view(-1, 28 * 28)\n",
    "    mean += images.mean()\n",
    "    std += images.std()\n",
    "\n",
    "mean /= len(test_dataset)\n",
    "std /= len(test_dataset)\n",
    "\n",
    "print(\"mean: \", mean)\n",
    "print(\"std: \", std)"
   ]
  },
  {
   "cell_type": "code",
   "execution_count": 6,
   "id": "9b7ca393-7592-469f-a957-eaabf7b426d9",
   "metadata": {},
   "outputs": [
    {
     "name": "stdout",
     "output_type": "stream",
     "text": [
      "mean and std before normalize:\n",
      "Mean of the image: tensor([-0.1479])\n",
      "Std of the image: tensor([0.6445])\n"
     ]
    },
    {
     "data": {
      "image/png": "[encoded data removed]",
      "text/plain": [
       "<Figure size 640x480 with 1 Axes>"
      ]
     },
     "metadata": {},
     "output_type": "display_data"
    }
   ],
   "source": [
    "sample = 7\n",
    "\n",
    "definitions = {\n",
    "    0: 'T-shirt/top',\n",
    "    1: 'Trouser',\n",
    "    2: 'Pullover',\n",
    "    3: 'Dress',\n",
    "    4: 'Coat',\n",
    "    5: 'Sandal',\n",
    "    6: 'Shirt',\n",
    "    7: 'Sneaker',\n",
    "    8: 'Bag',\n",
    "    9: 'Ankle boot'\n",
    "}\n",
    "\n",
    "image, label = train_dataset[sample]\n",
    "\n",
    "mean, std = image.mean([1,2]), image.std([1,2])\n",
    " \n",
    "# print mean and std\n",
    "print(\"mean and std before normalize:\")\n",
    "print(\"Mean of the image:\", mean)\n",
    "print(\"Std of the image:\", std)\n",
    "\n",
    "\n",
    "image = np.array(image).reshape((28, 28, 1))\n",
    "\n",
    "# View some of the training Data\n",
    "plt.imshow(image)\n",
    "_=plt.title(definitions[label])"
   ]
  },
  {
   "cell_type": "code",
   "execution_count": 7,
   "id": "ae9b750d-748f-49a4-9c20-cdc8218254dd",
   "metadata": {},
   "outputs": [],
   "source": [
    "trainLoader = DataLoader(train_dataset, batch_size=config.bs, shuffle=True, num_workers=1)\n",
    "validateLoader = DataLoader(valid_dataset, batch_size=config.bs, shuffle=True, num_workers=1)\n",
    "testLoader = DataLoader(test_dataset, batch_size=config.bs, shuffle=True, num_workers=1)"
   ]
  },
  {
   "cell_type": "code",
   "execution_count": 8,
   "id": "1bebb7a6-4049-495f-bb7c-b4e8b2d39cce",
   "metadata": {},
   "outputs": [
    {
     "name": "stderr",
     "output_type": "stream",
     "text": [
      "C:\\Users\\gmald\\anaconda3\\envs\\genml\\lib\\site-packages\\torch\\nn\\modules\\lazy.py:180: UserWarning: Lazy modules are a new feature under heavy development so changes to the API or functionality can happen at any moment.\n",
      "  warnings.warn('Lazy modules are a new feature under heavy development '\n"
     ]
    }
   ],
   "source": [
    "BaseModel = nn.Sequential(\n",
    "    nn.Flatten(),\n",
    "    nn.LazyLinear(256),\n",
    "    nn.ReLU(),\n",
    "    nn.Linear(in_features= 256, out_features= 128),\n",
    "    nn.ReLU(),\n",
    "    nn.Linear(in_features= 128, out_features= 64),\n",
    "    nn.ReLU(),\n",
    "    nn.Linear(in_features= 64, out_features= 10),\n",
    ")"
   ]
  },
  {
   "cell_type": "code",
   "execution_count": 9,
   "id": "0e216118-6b4d-49dd-97dd-996e0c1bab4c",
   "metadata": {},
   "outputs": [
    {
     "data": {
      "text/plain": [
       "tensor([[-0.0298, -0.0784,  0.0296,  0.0179, -0.0219,  0.0538,  0.0877,  0.0486,\n",
       "         -0.0747,  0.0240]], grad_fn=<AddmmBackward0>)"
      ]
     },
     "execution_count": 9,
     "metadata": {},
     "output_type": "execute_result"
    }
   ],
   "source": [
    "image, label = test_dataset[sample]\n",
    "BaseModel(image)"
   ]
  },
  {
   "cell_type": "code",
   "execution_count": 10,
   "id": "726d5412-804f-4f43-ae8e-3994d094eed3",
   "metadata": {},
   "outputs": [],
   "source": [
    "from utils.Trainer import ModelTrainer\n",
    "\n",
    "# Setup trainer \n",
    "base = copy.deepcopy(BaseModel)\n",
    "BaseModelTrainer = ModelTrainer(base, nn.CrossEntropyLoss(), torch.optim.SGD(base.parameters(), lr=config.lr, momentum=0.9), MulticlassAccuracy, \"Classification\",  config.device, 10)"
   ]
  },
  {
   "cell_type": "markdown",
   "id": "a0bab864-4ddd-4892-a8d7-fd32527328f4",
   "metadata": {},
   "source": [
    "### 1.a Train the model from scratch (with randomized parameters) 10pts"
   ]
  },
  {
   "cell_type": "code",
   "execution_count": 11,
   "id": "272709df-b072-4790-a0e3-7e0c76462fce",
   "metadata": {
    "tags": []
   },
   "outputs": [
    {
     "name": "stderr",
     "output_type": "stream",
     "text": [
      "100%|████████████████████████████████████████████████████████████████████████████████| 422/422 [00:08<00:00, 47.22it/s]\n"
     ]
    },
    {
     "name": "stdout",
     "output_type": "stream",
     "text": [
      "EPOCH: 1\n",
      "Training Loss: 0.7195648906920193  | Validation Loss: 2.2988612601097596\n",
      "Training Accuracy: 0.7497925162315369  | Validation Accuracy: 0.1432679146528244\n"
     ]
    },
    {
     "name": "stderr",
     "output_type": "stream",
     "text": [
      "100%|████████████████████████████████████████████████████████████████████████████████| 422/422 [00:09<00:00, 44.45it/s]\n"
     ]
    },
    {
     "name": "stdout",
     "output_type": "stream",
     "text": [
      "EPOCH: 2\n",
      "Training Loss: 0.4084209927944775  | Validation Loss: 0.4492400567582313\n",
      "Training Accuracy: 0.8522209525108337  | Validation Accuracy: 0.8360746502876282\n"
     ]
    },
    {
     "name": "stderr",
     "output_type": "stream",
     "text": [
      "100%|████████████████████████████████████████████████████████████████████████████████| 422/422 [00:10<00:00, 41.84it/s]\n"
     ]
    },
    {
     "name": "stdout",
     "output_type": "stream",
     "text": [
      "EPOCH: 3\n",
      "Training Loss: 0.3575459924566237  | Validation Loss: 0.3922381099868328\n",
      "Training Accuracy: 0.8706554174423218  | Validation Accuracy: 0.8541138768196106\n"
     ]
    },
    {
     "name": "stderr",
     "output_type": "stream",
     "text": [
      "100%|████████████████████████████████████████████████████████████████████████████████| 422/422 [00:11<00:00, 36.74it/s]\n"
     ]
    },
    {
     "name": "stdout",
     "output_type": "stream",
     "text": [
      "EPOCH: 4\n",
      "Training Loss: 0.32623416425492524  | Validation Loss: 0.3607317773585624\n",
      "Training Accuracy: 0.8803703188896179  | Validation Accuracy: 0.872809648513794\n"
     ]
    },
    {
     "name": "stderr",
     "output_type": "stream",
     "text": [
      "100%|████████████████████████████████████████████████████████████████████████████████| 422/422 [00:10<00:00, 41.11it/s]\n"
     ]
    },
    {
     "name": "stdout",
     "output_type": "stream",
     "text": [
      "EPOCH: 5\n",
      "Training Loss: 0.3055169419231008  | Validation Loss: 0.3719465472596757\n",
      "Training Accuracy: 0.8891103267669678  | Validation Accuracy: 0.8637140989303589\n"
     ]
    },
    {
     "name": "stderr",
     "output_type": "stream",
     "text": [
      "100%|████████████████████████████████████████████████████████████████████████████████| 422/422 [00:10<00:00, 40.12it/s]\n"
     ]
    },
    {
     "name": "stdout",
     "output_type": "stream",
     "text": [
      "EPOCH: 6\n",
      "Training Loss: 0.28852730106685964  | Validation Loss: 0.3504252107219493\n",
      "Training Accuracy: 0.8940314650535583  | Validation Accuracy: 0.8653290271759033\n"
     ]
    },
    {
     "name": "stderr",
     "output_type": "stream",
     "text": [
      "100%|████████████████████████████████████████████████████████████████████████████████| 422/422 [00:09<00:00, 46.78it/s]\n"
     ]
    },
    {
     "name": "stdout",
     "output_type": "stream",
     "text": [
      "EPOCH: 7\n",
      "Training Loss: 0.27078471622337097  | Validation Loss: 0.3198575818158211\n",
      "Training Accuracy: 0.8995757102966309  | Validation Accuracy: 0.8822376132011414\n"
     ]
    },
    {
     "name": "stderr",
     "output_type": "stream",
     "text": [
      "100%|████████████████████████████████████████████████████████████████████████████████| 422/422 [00:09<00:00, 45.92it/s]\n"
     ]
    },
    {
     "name": "stdout",
     "output_type": "stream",
     "text": [
      "EPOCH: 8\n",
      "Training Loss: 0.25677166762651427  | Validation Loss: 0.3191978024675491\n",
      "Training Accuracy: 0.9047006368637085  | Validation Accuracy: 0.8842616081237793\n"
     ]
    },
    {
     "name": "stderr",
     "output_type": "stream",
     "text": [
      "100%|████████████████████████████████████████████████████████████████████████████████| 422/422 [00:09<00:00, 46.56it/s]\n"
     ]
    },
    {
     "name": "stdout",
     "output_type": "stream",
     "text": [
      "EPOCH: 9\n",
      "Training Loss: 0.24535096401428158  | Validation Loss: 0.3237878233194351\n",
      "Training Accuracy: 0.9090568423271179  | Validation Accuracy: 0.8843507170677185\n"
     ]
    },
    {
     "name": "stderr",
     "output_type": "stream",
     "text": [
      "100%|████████████████████████████████████████████████████████████████████████████████| 422/422 [00:11<00:00, 35.65it/s]\n"
     ]
    },
    {
     "name": "stdout",
     "output_type": "stream",
     "text": [
      "EPOCH: 10\n",
      "Training Loss: 0.23280288558011936  | Validation Loss: 0.3278072130806903\n",
      "Training Accuracy: 0.9134989976882935  | Validation Accuracy: 0.8870614767074585\n"
     ]
    },
    {
     "name": "stderr",
     "output_type": "stream",
     "text": [
      "100%|████████████████████████████████████████████████████████████████████████████████| 422/422 [00:09<00:00, 43.91it/s]\n"
     ]
    },
    {
     "name": "stdout",
     "output_type": "stream",
     "text": [
      "EPOCH: 11\n",
      "Training Loss: 0.22190179928289772  | Validation Loss: 0.33124814515418194\n",
      "Training Accuracy: 0.9173182845115662  | Validation Accuracy: 0.8795271515846252\n"
     ]
    },
    {
     "name": "stderr",
     "output_type": "stream",
     "text": [
      "100%|████████████████████████████████████████████████████████████████████████████████| 422/422 [00:10<00:00, 40.41it/s]\n"
     ]
    },
    {
     "name": "stdout",
     "output_type": "stream",
     "text": [
      "EPOCH: 12\n",
      "Training Loss: 0.21284527038510942  | Validation Loss: 0.30652404560687696\n",
      "Training Accuracy: 0.9208974838256836  | Validation Accuracy: 0.8931373357772827\n"
     ]
    },
    {
     "name": "stderr",
     "output_type": "stream",
     "text": [
      "100%|████████████████████████████████████████████████████████████████████████████████| 422/422 [00:09<00:00, 45.33it/s]\n"
     ]
    },
    {
     "name": "stdout",
     "output_type": "stream",
     "text": [
      "EPOCH: 13\n",
      "Training Loss: 0.20493642865764022  | Validation Loss: 0.33468016379691184\n",
      "Training Accuracy: 0.9232823252677917  | Validation Accuracy: 0.8849651217460632\n"
     ]
    },
    {
     "name": "stderr",
     "output_type": "stream",
     "text": [
      "100%|████████████████████████████████████████████████████████████████████████████████| 422/422 [00:11<00:00, 35.86it/s]\n"
     ]
    },
    {
     "name": "stdout",
     "output_type": "stream",
     "text": [
      "EPOCH: 14\n",
      "Training Loss: 0.19476081632183626  | Validation Loss: 0.32328558982686795\n",
      "Training Accuracy: 0.9275029897689819  | Validation Accuracy: 0.8879880905151367\n"
     ]
    },
    {
     "name": "stderr",
     "output_type": "stream",
     "text": [
      "100%|████████████████████████████████████████████████████████████████████████████████| 422/422 [00:11<00:00, 37.19it/s]\n"
     ]
    },
    {
     "name": "stdout",
     "output_type": "stream",
     "text": [
      "EPOCH: 15\n",
      "Training Loss: 0.18913120744635142  | Validation Loss: 0.31692868344327235\n",
      "Training Accuracy: 0.9293741583824158  | Validation Accuracy: 0.8930771350860596\n"
     ]
    },
    {
     "name": "stderr",
     "output_type": "stream",
     "text": [
      "100%|████████████████████████████████████████████████████████████████████████████████| 422/422 [00:11<00:00, 36.05it/s]\n"
     ]
    },
    {
     "name": "stdout",
     "output_type": "stream",
     "text": [
      "EPOCH: 16\n",
      "Training Loss: 0.177980488404561  | Validation Loss: 0.32318479647027687\n",
      "Training Accuracy: 0.9343363046646118  | Validation Accuracy: 0.8887414932250977\n"
     ]
    },
    {
     "name": "stderr",
     "output_type": "stream",
     "text": [
      "100%|████████████████████████████████████████████████████████████████████████████████| 422/422 [00:11<00:00, 36.07it/s]\n"
     ]
    },
    {
     "name": "stdout",
     "output_type": "stream",
     "text": [
      "EPOCH: 17\n",
      "Training Loss: 0.17061945660066266  | Validation Loss: 0.3318825291192278\n",
      "Training Accuracy: 0.9360448718070984  | Validation Accuracy: 0.8923527598381042\n"
     ]
    },
    {
     "name": "stderr",
     "output_type": "stream",
     "text": [
      "100%|████████████████████████████████████████████████████████████████████████████████| 422/422 [00:10<00:00, 41.33it/s]\n"
     ]
    },
    {
     "name": "stdout",
     "output_type": "stream",
     "text": [
      "EPOCH: 18\n",
      "Training Loss: 0.1668150804371913  | Validation Loss: 0.3243185727203146\n",
      "Training Accuracy: 0.9391628503799438  | Validation Accuracy: 0.8949604630470276\n"
     ]
    },
    {
     "name": "stderr",
     "output_type": "stream",
     "text": [
      "100%|████████████████████████████████████████████████████████████████████████████████| 422/422 [00:11<00:00, 37.74it/s]\n"
     ]
    },
    {
     "name": "stdout",
     "output_type": "stream",
     "text": [
      "EPOCH: 19\n",
      "Training Loss: 0.16120585266024015  | Validation Loss: 0.3394676389846396\n",
      "Training Accuracy: 0.9394784569740295  | Validation Accuracy: 0.8875117301940918\n"
     ]
    },
    {
     "name": "stderr",
     "output_type": "stream",
     "text": [
      "100%|████████████████████████████████████████████████████████████████████████████████| 422/422 [00:10<00:00, 41.61it/s]\n"
     ]
    },
    {
     "name": "stdout",
     "output_type": "stream",
     "text": [
      "EPOCH: 20\n",
      "Training Loss: 0.14980652663962676  | Validation Loss: 0.3355432550640816\n",
      "Training Accuracy: 0.9437766671180725  | Validation Accuracy: 0.8926426768302917\n",
      "\n",
      "Test Accuracy: 0.8867999911308289 \n",
      "Time to Train: 0:04:15.824781\n"
     ]
    },
    {
     "data": {
      "image/png": "[encoded data removed]",
      "text/plain": [
       "<Figure size 1100x400 with 3 Axes>"
      ]
     },
     "metadata": {},
     "output_type": "display_data"
    }
   ],
   "source": [
    "t0 = datetime.now()\n",
    "\n",
    "# Fit model\n",
    "BaseModelTrainer.fit(trainLoader, validateLoader, config.EPOCHS)\n",
    "t1 = datetime.now()\n",
    "BaseModelTrainer.Test_Model(testLoader)\n",
    "\n",
    "print(\"\\nTest Accuracy:\", BaseModelTrainer.Metrics[\"Test Accuracy\"], \"\\nTime to Train:\", t1 - t0)\n",
    "\n",
    "BaseModelTrainer.model.to(\"cpu\")\n",
    "BaseModelTrainer.Graph_Metrics()"
   ]
  },
  {
   "cell_type": "markdown",
   "id": "abb09d7a-feca-405a-98b9-99df31625ddd",
   "metadata": {},
   "source": [
    "### Does your network need more epochs for full training? Do you observe overfitting?\n",
    "You can begin to see the validation and training metrics greatly diverging overtime. I would consider this model to be overfitting to the training data since while training loss is becoming better, validation loss is not changing. Meaning the model is only improving on the training dataset."
   ]
  },
  {
   "cell_type": "markdown",
   "id": "92627635-9907-4dd6-bd14-4eae8de16cea",
   "metadata": {},
   "source": [
    "### 1.b This time add weight penalties (weight decays) 15pts"
   ]
  },
  {
   "cell_type": "code",
   "execution_count": 63,
   "id": "be37eed1-cc7a-4de0-a994-e97314d3e791",
   "metadata": {
    "tags": []
   },
   "outputs": [
    {
     "name": "stderr",
     "output_type": "stream",
     "text": [
      "100%|████████████████████████████████████████████████████████████████████████████████| 422/422 [00:08<00:00, 47.60it/s]\n"
     ]
    },
    {
     "name": "stdout",
     "output_type": "stream",
     "text": [
      "EPOCH: 1\n",
      "Training Loss: 1.0494451045425017  | Validation Loss: 2.2988743224042527\n",
      "Training Accuracy: 0.6623063087463379  | Validation Accuracy: 0.14203807711601257\n"
     ]
    },
    {
     "name": "stderr",
     "output_type": "stream",
     "text": [
      "100%|████████████████████████████████████████████████████████████████████████████████| 422/422 [00:10<00:00, 40.99it/s]\n"
     ]
    },
    {
     "name": "stdout",
     "output_type": "stream",
     "text": [
      "EPOCH: 2\n",
      "Training Loss: 0.504728624888506  | Validation Loss: 0.5821176177643715\n",
      "Training Accuracy: 0.8182199001312256  | Validation Accuracy: 0.7884389758110046\n"
     ]
    },
    {
     "name": "stderr",
     "output_type": "stream",
     "text": [
      "100%|████████████████████████████████████████████████████████████████████████████████| 422/422 [00:09<00:00, 44.92it/s]\n"
     ]
    },
    {
     "name": "stdout",
     "output_type": "stream",
     "text": [
      "EPOCH: 3\n",
      "Training Loss: 0.439469922563476  | Validation Loss: 0.4767404515692528\n",
      "Training Accuracy: 0.8414883017539978  | Validation Accuracy: 0.8274433016777039\n"
     ]
    },
    {
     "name": "stderr",
     "output_type": "stream",
     "text": [
      "100%|████████████████████████████████████████████████████████████████████████████████| 422/422 [00:12<00:00, 34.59it/s]\n"
     ]
    },
    {
     "name": "stdout",
     "output_type": "stream",
     "text": [
      "EPOCH: 4\n",
      "Training Loss: 0.39982455036651465  | Validation Loss: 0.42965065037950556\n",
      "Training Accuracy: 0.8570064306259155  | Validation Accuracy: 0.8461384177207947\n"
     ]
    },
    {
     "name": "stderr",
     "output_type": "stream",
     "text": [
      "100%|████████████████████████████████████████████████████████████████████████████████| 422/422 [00:11<00:00, 36.06it/s]\n"
     ]
    },
    {
     "name": "stdout",
     "output_type": "stream",
     "text": [
      "EPOCH: 5\n",
      "Training Loss: 0.37581460915894305  | Validation Loss: 0.4104919452616509\n",
      "Training Accuracy: 0.8656123876571655  | Validation Accuracy: 0.8527362942695618\n"
     ]
    },
    {
     "name": "stderr",
     "output_type": "stream",
     "text": [
      "100%|████████████████████████████████████████████████████████████████████████████████| 422/422 [00:11<00:00, 35.92it/s]\n"
     ]
    },
    {
     "name": "stdout",
     "output_type": "stream",
     "text": [
      "EPOCH: 6\n",
      "Training Loss: 0.35706988990448096  | Validation Loss: 0.3877125712151223\n",
      "Training Accuracy: 0.8721349835395813  | Validation Accuracy: 0.8613486886024475\n"
     ]
    },
    {
     "name": "stderr",
     "output_type": "stream",
     "text": [
      "100%|████████████████████████████████████████████████████████████████████████████████| 422/422 [00:11<00:00, 36.71it/s]\n"
     ]
    },
    {
     "name": "stdout",
     "output_type": "stream",
     "text": [
      "EPOCH: 7\n",
      "Training Loss: 0.3403079517856593  | Validation Loss: 0.37478665531949795\n",
      "Training Accuracy: 0.8767019510269165  | Validation Accuracy: 0.8659612536430359\n"
     ]
    },
    {
     "name": "stderr",
     "output_type": "stream",
     "text": [
      "100%|████████████████████████████████████████████████████████████████████████████████| 422/422 [00:11<00:00, 35.78it/s]\n"
     ]
    },
    {
     "name": "stdout",
     "output_type": "stream",
     "text": [
      "EPOCH: 8\n",
      "Training Loss: 0.32455501790154034  | Validation Loss: 0.36182533077737117\n",
      "Training Accuracy: 0.8822066187858582  | Validation Accuracy: 0.8738287091255188\n"
     ]
    },
    {
     "name": "stderr",
     "output_type": "stream",
     "text": [
      "100%|████████████████████████████████████████████████████████████████████████████████| 422/422 [00:11<00:00, 35.47it/s]\n"
     ]
    },
    {
     "name": "stdout",
     "output_type": "stream",
     "text": [
      "EPOCH: 9\n",
      "Training Loss: 0.3130153958548867  | Validation Loss: 0.35350216925144196\n",
      "Training Accuracy: 0.8859838247299194  | Validation Accuracy: 0.8769444227218628\n"
     ]
    },
    {
     "name": "stderr",
     "output_type": "stream",
     "text": [
      "100%|████████████████████████████████████████████████████████████████████████████████| 422/422 [00:11<00:00, 35.76it/s]\n"
     ]
    },
    {
     "name": "stdout",
     "output_type": "stream",
     "text": [
      "EPOCH: 10\n",
      "Training Loss: 0.3021003361703095  | Validation Loss: 0.36217912238963107\n",
      "Training Accuracy: 0.88958740234375  | Validation Accuracy: 0.8742193579673767\n"
     ]
    },
    {
     "name": "stderr",
     "output_type": "stream",
     "text": [
      "100%|████████████████████████████████████████████████████████████████████████████████| 422/422 [00:11<00:00, 36.30it/s]\n"
     ]
    },
    {
     "name": "stdout",
     "output_type": "stream",
     "text": [
      "EPOCH: 11\n",
      "Training Loss: 0.29324148323439875  | Validation Loss: 0.3405388996322104\n",
      "Training Accuracy: 0.8931431174278259  | Validation Accuracy: 0.8789828419685364\n"
     ]
    },
    {
     "name": "stderr",
     "output_type": "stream",
     "text": [
      "100%|████████████████████████████████████████████████████████████████████████████████| 422/422 [00:11<00:00, 37.33it/s]\n"
     ]
    },
    {
     "name": "stdout",
     "output_type": "stream",
     "text": [
      "EPOCH: 12\n",
      "Training Loss: 0.2816827808864309  | Validation Loss: 0.33331482302635274\n",
      "Training Accuracy: 0.8969566822052002  | Validation Accuracy: 0.8808429837226868\n"
     ]
    },
    {
     "name": "stderr",
     "output_type": "stream",
     "text": [
      "100%|████████████████████████████████████████████████████████████████████████████████| 422/422 [00:11<00:00, 37.29it/s]\n"
     ]
    },
    {
     "name": "stdout",
     "output_type": "stream",
     "text": [
      "EPOCH: 13\n",
      "Training Loss: 0.2738190556730704  | Validation Loss: 0.3389060310226806\n",
      "Training Accuracy: 0.8990986943244934  | Validation Accuracy: 0.8813441395759583\n"
     ]
    },
    {
     "name": "stderr",
     "output_type": "stream",
     "text": [
      "100%|████████████████████████████████████████████████████████████████████████████████| 422/422 [00:11<00:00, 35.44it/s]\n"
     ]
    },
    {
     "name": "stdout",
     "output_type": "stream",
     "text": [
      "EPOCH: 14\n",
      "Training Loss: 0.2647011483096963  | Validation Loss: 0.329665777531076\n",
      "Training Accuracy: 0.9040138721466064  | Validation Accuracy: 0.8793096542358398\n"
     ]
    },
    {
     "name": "stderr",
     "output_type": "stream",
     "text": [
      "100%|████████████████████████████████████████████████████████████████████████████████| 422/422 [00:11<00:00, 35.79it/s]\n"
     ]
    },
    {
     "name": "stdout",
     "output_type": "stream",
     "text": [
      "EPOCH: 15\n",
      "Training Loss: 0.25570081880589796  | Validation Loss: 0.32266541491163536\n",
      "Training Accuracy: 0.9061533808708191  | Validation Accuracy: 0.8840761184692383\n"
     ]
    },
    {
     "name": "stderr",
     "output_type": "stream",
     "text": [
      "100%|████████████████████████████████████████████████████████████████████████████████| 422/422 [00:11<00:00, 35.69it/s]\n"
     ]
    },
    {
     "name": "stdout",
     "output_type": "stream",
     "text": [
      "EPOCH: 16\n",
      "Training Loss: 0.2507126250467594  | Validation Loss: 0.3230066515029745\n",
      "Training Accuracy: 0.9086995124816895  | Validation Accuracy: 0.887833297252655\n"
     ]
    },
    {
     "name": "stderr",
     "output_type": "stream",
     "text": [
      "100%|████████████████████████████████████████████████████████████████████████████████| 422/422 [00:11<00:00, 35.79it/s]\n"
     ]
    },
    {
     "name": "stdout",
     "output_type": "stream",
     "text": [
      "EPOCH: 17\n",
      "Training Loss: 0.24003177434559117  | Validation Loss: 0.318607600762489\n",
      "Training Accuracy: 0.9120055437088013  | Validation Accuracy: 0.8905639052391052\n"
     ]
    },
    {
     "name": "stderr",
     "output_type": "stream",
     "text": [
      "100%|████████████████████████████████████████████████████████████████████████████████| 422/422 [00:11<00:00, 35.35it/s]\n"
     ]
    },
    {
     "name": "stdout",
     "output_type": "stream",
     "text": [
      "EPOCH: 18\n",
      "Training Loss: 0.23227303595198273  | Validation Loss: 0.31917709524327137\n",
      "Training Accuracy: 0.9148773550987244  | Validation Accuracy: 0.8828341960906982\n"
     ]
    },
    {
     "name": "stderr",
     "output_type": "stream",
     "text": [
      "100%|████████████████████████████████████████████████████████████████████████████████| 422/422 [00:11<00:00, 35.50it/s]\n"
     ]
    },
    {
     "name": "stdout",
     "output_type": "stream",
     "text": [
      "EPOCH: 19\n",
      "Training Loss: 0.22784296928141354  | Validation Loss: 0.3171048773095963\n",
      "Training Accuracy: 0.9177296161651611  | Validation Accuracy: 0.8908873796463013\n"
     ]
    },
    {
     "name": "stderr",
     "output_type": "stream",
     "text": [
      "100%|████████████████████████████████████████████████████████████████████████████████| 422/422 [00:12<00:00, 34.64it/s]\n"
     ]
    },
    {
     "name": "stdout",
     "output_type": "stream",
     "text": [
      "EPOCH: 20\n",
      "Training Loss: 0.2185914717367475  | Validation Loss: 0.33388136105334504\n",
      "Training Accuracy: 0.9202534556388855  | Validation Accuracy: 0.8779405355453491\n",
      "\n",
      "Test Accuracy: 0.8852999806404114 \n",
      "Time to Train: 0:04:37.286961\n"
     ]
    },
    {
     "data": {
      "image/png": "[encoded data removed]",
      "text/plain": [
       "<Figure size 1100x400 with 3 Axes>"
      ]
     },
     "metadata": {},
     "output_type": "display_data"
    }
   ],
   "source": [
    "DecayModel = copy.deepcopy(BaseModel)\n",
    "DecayModelTrainer = ModelTrainer(DecayModel, nn.CrossEntropyLoss(), torch.optim.SGD(DecayModel.parameters(), lr=config.lr, momentum=0.9, weight_decay=0.0001), MulticlassAccuracy, \"Classification\",  config.device, 10)\n",
    "\n",
    "t0 = datetime.now()\n",
    "\n",
    "DecayModelTrainer.fit(trainLoader, validateLoader, config.EPOCHS)\n",
    "t1 = datetime.now()\n",
    "DecayModelTrainer.Test_Model(testLoader)\n",
    "\n",
    "print(\"\\nTest Accuracy:\", DecayModelTrainer.Metrics[\"Test Accuracy\"], \"\\nTime to Train:\", t1 - t0)\n",
    "\n",
    "DecayModelTrainer.model.to(\"cpu\")\n",
    "DecayModelTrainer.Graph_Metrics()"
   ]
  },
  {
   "cell_type": "markdown",
   "id": "b387dc77-cac1-4b9c-987b-7c677de53fb4",
   "metadata": {},
   "source": [
    "### How do the training results change compared to the baseline?\n",
    "As we look at both graphs the training results seem mostly identical, however the generalization gap is slightly less on the weight decay model. This is because weight decay allows weights which are not as heavily used to have the chance of being used due to the strong weights being reduced. This allows a model to better generalize to test data which has not been seen yet. The difference is slight however it is noticable, changing about a percentage."
   ]
  },
  {
   "cell_type": "code",
   "execution_count": 13,
   "id": "8975d299-00b1-4137-ac2c-209556d39b9f",
   "metadata": {},
   "outputs": [
    {
     "name": "stdout",
     "output_type": "stream",
     "text": [
      "Sequential(\n",
      "  (0): Flatten(start_dim=1, end_dim=-1)\n",
      "  (1): Linear(in_features=784, out_features=256, bias=True)\n",
      "  (2): ReLU()\n",
      "  (3): Linear(in_features=256, out_features=128, bias=True)\n",
      "  (4): ReLU()\n",
      "  (5): Dropout(p=0.3, inplace=False)\n",
      "  (6): Linear(in_features=128, out_features=64, bias=True)\n",
      "  (7): ReLU()\n",
      "  (8): Dropout(p=0.3, inplace=False)\n",
      "  (9): Linear(in_features=64, out_features=10, bias=True)\n",
      ")\n"
     ]
    }
   ],
   "source": [
    "DropModel = copy.deepcopy(BaseModel)\n",
    "DropModel.insert(5, nn.Dropout(0.3))\n",
    "DropModel.insert(8, nn.Dropout(0.3))\n",
    "print(DropModel)"
   ]
  },
  {
   "cell_type": "markdown",
   "id": "931c43e3-4cd2-49d4-a40a-1ad95d421538",
   "metadata": {},
   "source": [
    "### 1.c This time add dropout (dropout = 0.3) 15pts"
   ]
  },
  {
   "cell_type": "code",
   "execution_count": 14,
   "id": "f8debfca-7320-4de5-883f-e2329c165a03",
   "metadata": {
    "tags": []
   },
   "outputs": [
    {
     "name": "stderr",
     "output_type": "stream",
     "text": [
      "100%|████████████████████████████████████████████████████████████████████████████████| 422/422 [00:11<00:00, 35.42it/s]\n"
     ]
    },
    {
     "name": "stdout",
     "output_type": "stream",
     "text": [
      "EPOCH: 1\n",
      "Training Loss: 0.8465215059535763  | Validation Loss: 2.2988787965571627\n",
      "Training Accuracy: 0.695548415184021  | Validation Accuracy: 0.14215900003910065\n"
     ]
    },
    {
     "name": "stderr",
     "output_type": "stream",
     "text": [
      "100%|████████████████████████████████████████████████████████████████████████████████| 422/422 [00:11<00:00, 35.87it/s]\n"
     ]
    },
    {
     "name": "stdout",
     "output_type": "stream",
     "text": [
      "EPOCH: 2\n",
      "Training Loss: 0.47929433235342467  | Validation Loss: 0.49043538912813717\n",
      "Training Accuracy: 0.8324177265167236  | Validation Accuracy: 0.8195300102233887\n"
     ]
    },
    {
     "name": "stderr",
     "output_type": "stream",
     "text": [
      "100%|████████████████████████████████████████████████████████████████████████████████| 422/422 [00:11<00:00, 35.48it/s]\n"
     ]
    },
    {
     "name": "stdout",
     "output_type": "stream",
     "text": [
      "EPOCH: 3\n",
      "Training Loss: 0.4240304200570165  | Validation Loss: 0.4163932552997102\n",
      "Training Accuracy: 0.851871132850647  | Validation Accuracy: 0.850829005241394\n"
     ]
    },
    {
     "name": "stderr",
     "output_type": "stream",
     "text": [
      "100%|████████████████████████████████████████████████████████████████████████████████| 422/422 [00:11<00:00, 37.72it/s]\n"
     ]
    },
    {
     "name": "stdout",
     "output_type": "stream",
     "text": [
      "EPOCH: 4\n",
      "Training Loss: 0.3862214969444614  | Validation Loss: 0.37779323312830415\n",
      "Training Accuracy: 0.8655071258544922  | Validation Accuracy: 0.8605536818504333\n"
     ]
    },
    {
     "name": "stderr",
     "output_type": "stream",
     "text": [
      "100%|████████████████████████████████████████████████████████████████████████████████| 422/422 [00:11<00:00, 37.55it/s]\n"
     ]
    },
    {
     "name": "stdout",
     "output_type": "stream",
     "text": [
      "EPOCH: 5\n",
      "Training Loss: 0.3645776926906188  | Validation Loss: 0.35655942464128454\n",
      "Training Accuracy: 0.8731905817985535  | Validation Accuracy: 0.8712466359138489\n"
     ]
    },
    {
     "name": "stderr",
     "output_type": "stream",
     "text": [
      "100%|████████████████████████████████████████████████████████████████████████████████| 422/422 [00:11<00:00, 35.57it/s]\n"
     ]
    },
    {
     "name": "stdout",
     "output_type": "stream",
     "text": [
      "EPOCH: 6\n",
      "Training Loss: 0.3449035612822144  | Validation Loss: 0.34996636338690496\n",
      "Training Accuracy: 0.8786380887031555  | Validation Accuracy: 0.8793388605117798\n"
     ]
    },
    {
     "name": "stderr",
     "output_type": "stream",
     "text": [
      "100%|████████████████████████████████████████████████████████████████████████████████| 422/422 [00:11<00:00, 35.95it/s]\n"
     ]
    },
    {
     "name": "stdout",
     "output_type": "stream",
     "text": [
      "EPOCH: 7\n",
      "Training Loss: 0.32332648029683325  | Validation Loss: 0.35287133556731204\n",
      "Training Accuracy: 0.8850240111351013  | Validation Accuracy: 0.8755583167076111\n"
     ]
    },
    {
     "name": "stderr",
     "output_type": "stream",
     "text": [
      "100%|████████████████████████████████████████████████████████████████████████████████| 422/422 [00:10<00:00, 41.30it/s]\n"
     ]
    },
    {
     "name": "stdout",
     "output_type": "stream",
     "text": [
      "EPOCH: 8\n",
      "Training Loss: 0.308397461699931  | Validation Loss: 0.3496774948657827\n",
      "Training Accuracy: 0.8900361061096191  | Validation Accuracy: 0.8741167783737183\n"
     ]
    },
    {
     "name": "stderr",
     "output_type": "stream",
     "text": [
      "100%|████████████████████████████████████████████████████████████████████████████████| 422/422 [00:09<00:00, 43.84it/s]\n"
     ]
    },
    {
     "name": "stdout",
     "output_type": "stream",
     "text": [
      "EPOCH: 9\n",
      "Training Loss: 0.29620265784139316  | Validation Loss: 0.32082049041352373\n",
      "Training Accuracy: 0.8941023349761963  | Validation Accuracy: 0.8846558928489685\n"
     ]
    },
    {
     "name": "stderr",
     "output_type": "stream",
     "text": [
      "100%|████████████████████████████████████████████████████████████████████████████████| 422/422 [00:09<00:00, 42.53it/s]\n"
     ]
    },
    {
     "name": "stdout",
     "output_type": "stream",
     "text": [
      "EPOCH: 10\n",
      "Training Loss: 0.287506367216743  | Validation Loss: 0.329113521791519\n",
      "Training Accuracy: 0.8987356424331665  | Validation Accuracy: 0.883091151714325\n"
     ]
    },
    {
     "name": "stderr",
     "output_type": "stream",
     "text": [
      "100%|████████████████████████████████████████████████████████████████████████████████| 422/422 [00:09<00:00, 44.39it/s]\n"
     ]
    },
    {
     "name": "stdout",
     "output_type": "stream",
     "text": [
      "EPOCH: 11\n",
      "Training Loss: 0.27730460212482094  | Validation Loss: 0.31685706307279304\n",
      "Training Accuracy: 0.9012190699577332  | Validation Accuracy: 0.8834189772605896\n"
     ]
    },
    {
     "name": "stderr",
     "output_type": "stream",
     "text": [
      "100%|████████████████████████████████████████████████████████████████████████████████| 422/422 [00:09<00:00, 45.04it/s]\n"
     ]
    },
    {
     "name": "stdout",
     "output_type": "stream",
     "text": [
      "EPOCH: 12\n",
      "Training Loss: 0.2666168148271845  | Validation Loss: 0.3184381380994269\n",
      "Training Accuracy: 0.904383659362793  | Validation Accuracy: 0.8851382732391357\n"
     ]
    },
    {
     "name": "stderr",
     "output_type": "stream",
     "text": [
      "100%|████████████████████████████████████████████████████████████████████████████████| 422/422 [00:09<00:00, 43.19it/s]\n"
     ]
    },
    {
     "name": "stdout",
     "output_type": "stream",
     "text": [
      "EPOCH: 13\n",
      "Training Loss: 0.25747708097029637  | Validation Loss: 0.3153578692928274\n",
      "Training Accuracy: 0.9073614478111267  | Validation Accuracy: 0.887162983417511\n"
     ]
    },
    {
     "name": "stderr",
     "output_type": "stream",
     "text": [
      "100%|████████████████████████████████████████████████████████████████████████████████| 422/422 [00:09<00:00, 43.09it/s]\n"
     ]
    },
    {
     "name": "stdout",
     "output_type": "stream",
     "text": [
      "EPOCH: 14\n",
      "Training Loss: 0.2501642585189139  | Validation Loss: 0.33423618021163537\n",
      "Training Accuracy: 0.9091214537620544  | Validation Accuracy: 0.8872175216674805\n"
     ]
    },
    {
     "name": "stderr",
     "output_type": "stream",
     "text": [
      "100%|████████████████████████████████████████████████████████████████████████████████| 422/422 [00:09<00:00, 45.33it/s]\n"
     ]
    },
    {
     "name": "stdout",
     "output_type": "stream",
     "text": [
      "EPOCH: 15\n",
      "Training Loss: 0.2409807570914239  | Validation Loss: 0.3179595860395026\n",
      "Training Accuracy: 0.913276731967926  | Validation Accuracy: 0.8909754753112793\n"
     ]
    },
    {
     "name": "stderr",
     "output_type": "stream",
     "text": [
      "100%|████████████████████████████████████████████████████████████████████████████████| 422/422 [00:11<00:00, 35.81it/s]\n"
     ]
    },
    {
     "name": "stdout",
     "output_type": "stream",
     "text": [
      "EPOCH: 16\n",
      "Training Loss: 0.2330259208995584  | Validation Loss: 0.35442133596602904\n",
      "Training Accuracy: 0.9142534732818604  | Validation Accuracy: 0.8805415630340576\n"
     ]
    },
    {
     "name": "stderr",
     "output_type": "stream",
     "text": [
      "100%|████████████████████████████████████████████████████████████████████████████████| 422/422 [00:11<00:00, 35.80it/s]\n"
     ]
    },
    {
     "name": "stdout",
     "output_type": "stream",
     "text": [
      "EPOCH: 17\n",
      "Training Loss: 0.22618791325044293  | Validation Loss: 0.3219756912043754\n",
      "Training Accuracy: 0.9183667898178101  | Validation Accuracy: 0.8940688371658325\n"
     ]
    },
    {
     "name": "stderr",
     "output_type": "stream",
     "text": [
      "100%|████████████████████████████████████████████████████████████████████████████████| 422/422 [00:11<00:00, 35.84it/s]\n"
     ]
    },
    {
     "name": "stdout",
     "output_type": "stream",
     "text": [
      "EPOCH: 18\n",
      "Training Loss: 0.22236746464860382  | Validation Loss: 0.3051398003354986\n",
      "Training Accuracy: 0.9190965294837952  | Validation Accuracy: 0.8945960998535156\n"
     ]
    },
    {
     "name": "stderr",
     "output_type": "stream",
     "text": [
      "100%|████████████████████████████████████████████████████████████████████████████████| 422/422 [00:11<00:00, 35.27it/s]\n"
     ]
    },
    {
     "name": "stdout",
     "output_type": "stream",
     "text": [
      "EPOCH: 19\n",
      "Training Loss: 0.213909449912078  | Validation Loss: 0.30723235613488137\n",
      "Training Accuracy: 0.9214906096458435  | Validation Accuracy: 0.8933355212211609\n"
     ]
    },
    {
     "name": "stderr",
     "output_type": "stream",
     "text": [
      "100%|████████████████████████████████████████████████████████████████████████████████| 422/422 [00:11<00:00, 35.43it/s]\n"
     ]
    },
    {
     "name": "stdout",
     "output_type": "stream",
     "text": [
      "EPOCH: 20\n",
      "Training Loss: 0.20619112786382296  | Validation Loss: 0.32939314778814927\n",
      "Training Accuracy: 0.9255451560020447  | Validation Accuracy: 0.8874697685241699\n",
      "\n",
      "Test Accuracy: 0.8890000581741333 \n",
      "Time to Train: 0:04:26.479666\n"
     ]
    },
    {
     "data": {
      "image/png": "[encoded data removed]",
      "text/plain": [
       "<Figure size 1100x400 with 3 Axes>"
      ]
     },
     "metadata": {},
     "output_type": "display_data"
    }
   ],
   "source": [
    "DropModelTrainer = ModelTrainer(DropModel, nn.CrossEntropyLoss(), torch.optim.SGD(DropModel.parameters(), lr=config.lr, momentum=0.9), MulticlassAccuracy, \"Classification\",  config.device, 10)\n",
    "\n",
    "t0 = datetime.now()\n",
    "\n",
    "DropModelTrainer.fit(trainLoader, validateLoader, config.EPOCHS)\n",
    "t1 = datetime.now()\n",
    "DropModelTrainer.Test_Model(testLoader)\n",
    "\n",
    "print(\"\\nTest Accuracy:\", DropModelTrainer.Metrics[\"Test Accuracy\"], \"\\nTime to Train:\", t1 - t0)\n",
    "\n",
    "DropModelTrainer.model.to(\"cpu\")\n",
    "DropModelTrainer.Graph_Metrics()"
   ]
  },
  {
   "cell_type": "markdown",
   "id": "d28df2af-1eda-474c-b49c-88ac3f6cd7d9",
   "metadata": {},
   "source": [
    "### How do the training results change compared to the baseline and weight penalties?\n",
    "Once again within the graph we see a further reduction in the generalization gap between the validation and training. The result is actually more significant than when weight decay is added. Meaning dropout has a better generalization result than weight decay. Dropping random nodes each iteration allows the model to have to use other nodes to make predictions and update those nodes during training."
   ]
  },
  {
   "cell_type": "code",
   "execution_count": 15,
   "id": "29b7caf0-779b-4177-aba3-eb09909675f2",
   "metadata": {},
   "outputs": [
    {
     "name": "stdout",
     "output_type": "stream",
     "text": [
      "Sequential(\n",
      "  (0): Flatten(start_dim=1, end_dim=-1)\n",
      "  (1): Linear(in_features=784, out_features=256, bias=True)\n",
      "  (2): ReLU()\n",
      "  (3): Linear(in_features=256, out_features=128, bias=True)\n",
      "  (4): ReLU()\n",
      "  (5): Dropout(p=0.3, inplace=False)\n",
      "  (6): Linear(in_features=128, out_features=64, bias=True)\n",
      "  (7): ReLU()\n",
      "  (8): Dropout(p=0.3, inplace=False)\n",
      "  (9): Linear(in_features=64, out_features=10, bias=True)\n",
      ")\n"
     ]
    }
   ],
   "source": [
    "PretrainedModel = copy.deepcopy(BaseModelTrainer.model)\n",
    "PretrainedModel.insert(5, nn.Dropout(0.3))\n",
    "PretrainedModel.insert(8, nn.Dropout(0.3))\n",
    "print(PretrainedModel)"
   ]
  },
  {
   "cell_type": "markdown",
   "id": "6d625b45-bd39-4c28-ab3e-acb3bf6dd336",
   "metadata": {},
   "source": [
    "### 1.d Repeat problems 1.b and 1.c; This time, load the pre-trained parameters from the storage 20pts"
   ]
  },
  {
   "cell_type": "code",
   "execution_count": 16,
   "id": "cbe5c715-b2bc-450b-8501-4b0d8ca8b7f7",
   "metadata": {
    "tags": []
   },
   "outputs": [
    {
     "name": "stderr",
     "output_type": "stream",
     "text": [
      "100%|████████████████████████████████████████████████████████████████████████████████| 422/422 [00:11<00:00, 35.85it/s]\n"
     ]
    },
    {
     "name": "stdout",
     "output_type": "stream",
     "text": [
      "EPOCH: 1\n",
      "Training Loss: 0.2765917837337295  | Validation Loss: 0.35082460496019807\n",
      "Training Accuracy: 0.9038605690002441  | Validation Accuracy: 0.8928150534629822\n"
     ]
    },
    {
     "name": "stderr",
     "output_type": "stream",
     "text": [
      "100%|████████████████████████████████████████████████████████████████████████████████| 422/422 [00:11<00:00, 35.80it/s]\n"
     ]
    },
    {
     "name": "stdout",
     "output_type": "stream",
     "text": [
      "EPOCH: 2\n",
      "Training Loss: 0.22728588094855373  | Validation Loss: 0.33713517956277156\n",
      "Training Accuracy: 0.9197676777839661  | Validation Accuracy: 0.8883301615715027\n"
     ]
    },
    {
     "name": "stderr",
     "output_type": "stream",
     "text": [
      "100%|████████████████████████████████████████████████████████████████████████████████| 422/422 [00:11<00:00, 35.61it/s]\n"
     ]
    },
    {
     "name": "stdout",
     "output_type": "stream",
     "text": [
      "EPOCH: 3\n",
      "Training Loss: 0.2174543230772301  | Validation Loss: 0.34248441457748413\n",
      "Training Accuracy: 0.9239029884338379  | Validation Accuracy: 0.8876380324363708\n"
     ]
    },
    {
     "name": "stderr",
     "output_type": "stream",
     "text": [
      "100%|████████████████████████████████████████████████████████████████████████████████| 422/422 [00:11<00:00, 35.31it/s]\n"
     ]
    },
    {
     "name": "stdout",
     "output_type": "stream",
     "text": [
      "EPOCH: 4\n",
      "Training Loss: 0.2135268266520229  | Validation Loss: 0.33786390119410575\n",
      "Training Accuracy: 0.9247429370880127  | Validation Accuracy: 0.8907183408737183\n"
     ]
    },
    {
     "name": "stderr",
     "output_type": "stream",
     "text": [
      "100%|████████████████████████████████████████████████████████████████████████████████| 422/422 [00:11<00:00, 35.44it/s]\n"
     ]
    },
    {
     "name": "stdout",
     "output_type": "stream",
     "text": [
      "EPOCH: 5\n",
      "Training Loss: 0.19697699944766778  | Validation Loss: 0.32162378982026524\n",
      "Training Accuracy: 0.9291988015174866  | Validation Accuracy: 0.8952246308326721\n"
     ]
    },
    {
     "name": "stderr",
     "output_type": "stream",
     "text": [
      "100%|████████████████████████████████████████████████████████████████████████████████| 422/422 [00:11<00:00, 35.27it/s]\n"
     ]
    },
    {
     "name": "stdout",
     "output_type": "stream",
     "text": [
      "EPOCH: 6\n",
      "Training Loss: 0.19536042511816273  | Validation Loss: 0.34405489884158397\n",
      "Training Accuracy: 0.9317461252212524  | Validation Accuracy: 0.8920700550079346\n"
     ]
    },
    {
     "name": "stderr",
     "output_type": "stream",
     "text": [
      "100%|████████████████████████████████████████████████████████████████████████████████| 422/422 [00:11<00:00, 35.26it/s]\n"
     ]
    },
    {
     "name": "stdout",
     "output_type": "stream",
     "text": [
      "EPOCH: 7\n",
      "Training Loss: 0.1890270443747959  | Validation Loss: 0.3180681584363288\n",
      "Training Accuracy: 0.9334509372711182  | Validation Accuracy: 0.8960849642753601\n"
     ]
    },
    {
     "name": "stderr",
     "output_type": "stream",
     "text": [
      "100%|████████████████████████████████████████████████████████████████████████████████| 422/422 [00:09<00:00, 45.94it/s]\n"
     ]
    },
    {
     "name": "stdout",
     "output_type": "stream",
     "text": [
      "EPOCH: 8\n",
      "Training Loss: 0.17926527833415998  | Validation Loss: 0.3270618928239701\n",
      "Training Accuracy: 0.9360345005989075  | Validation Accuracy: 0.894496738910675\n"
     ]
    },
    {
     "name": "stderr",
     "output_type": "stream",
     "text": [
      "100%|████████████████████████████████████████████████████████████████████████████████| 422/422 [00:09<00:00, 43.19it/s]\n"
     ]
    },
    {
     "name": "stdout",
     "output_type": "stream",
     "text": [
      "EPOCH: 9\n",
      "Training Loss: 0.17337407189381632  | Validation Loss: 0.35029246356893096\n",
      "Training Accuracy: 0.9376247525215149  | Validation Accuracy: 0.8866727352142334\n"
     ]
    },
    {
     "name": "stderr",
     "output_type": "stream",
     "text": [
      "100%|████████████████████████████████████████████████████████████████████████████████| 422/422 [00:09<00:00, 43.16it/s]\n"
     ]
    },
    {
     "name": "stdout",
     "output_type": "stream",
     "text": [
      "EPOCH: 10\n",
      "Training Loss: 0.1728276337245347  | Validation Loss: 0.3549989515796621\n",
      "Training Accuracy: 0.9379090666770935  | Validation Accuracy: 0.8908510208129883\n"
     ]
    },
    {
     "name": "stderr",
     "output_type": "stream",
     "text": [
      "100%|████████████████████████████████████████████████████████████████████████████████| 422/422 [00:10<00:00, 39.45it/s]\n"
     ]
    },
    {
     "name": "stdout",
     "output_type": "stream",
     "text": [
      "EPOCH: 11\n",
      "Training Loss: 0.16759274183150152  | Validation Loss: 0.3505780392504753\n",
      "Training Accuracy: 0.9407923817634583  | Validation Accuracy: 0.8948951363563538\n"
     ]
    },
    {
     "name": "stderr",
     "output_type": "stream",
     "text": [
      "100%|████████████████████████████████████████████████████████████████████████████████| 422/422 [00:11<00:00, 35.47it/s]\n"
     ]
    },
    {
     "name": "stdout",
     "output_type": "stream",
     "text": [
      "EPOCH: 12\n",
      "Training Loss: 0.1574581050494977  | Validation Loss: 0.353991725026293\n",
      "Training Accuracy: 0.9444806575775146  | Validation Accuracy: 0.8963768482208252\n"
     ]
    },
    {
     "name": "stderr",
     "output_type": "stream",
     "text": [
      "100%|████████████████████████████████████████████████████████████████████████████████| 422/422 [00:11<00:00, 35.89it/s]\n"
     ]
    },
    {
     "name": "stdout",
     "output_type": "stream",
     "text": [
      "EPOCH: 13\n",
      "Training Loss: 0.15844255570163376  | Validation Loss: 0.37377941386496766\n",
      "Training Accuracy: 0.94278484582901  | Validation Accuracy: 0.8924496173858643\n"
     ]
    },
    {
     "name": "stderr",
     "output_type": "stream",
     "text": [
      "100%|████████████████████████████████████████████████████████████████████████████████| 422/422 [00:12<00:00, 35.03it/s]\n"
     ]
    },
    {
     "name": "stdout",
     "output_type": "stream",
     "text": [
      "EPOCH: 14\n",
      "Training Loss: 0.15112466087909107  | Validation Loss: 0.3542163568608304\n",
      "Training Accuracy: 0.9460114240646362  | Validation Accuracy: 0.8939142227172852\n"
     ]
    },
    {
     "name": "stderr",
     "output_type": "stream",
     "text": [
      "100%|████████████████████████████████████████████████████████████████████████████████| 422/422 [00:11<00:00, 35.96it/s]\n"
     ]
    },
    {
     "name": "stdout",
     "output_type": "stream",
     "text": [
      "EPOCH: 15\n",
      "Training Loss: 0.1495304275392356  | Validation Loss: 0.3593387981044485\n",
      "Training Accuracy: 0.9455723762512207  | Validation Accuracy: 0.895823061466217\n"
     ]
    },
    {
     "name": "stderr",
     "output_type": "stream",
     "text": [
      "100%|████████████████████████████████████████████████████████████████████████████████| 422/422 [00:11<00:00, 35.75it/s]\n"
     ]
    },
    {
     "name": "stdout",
     "output_type": "stream",
     "text": [
      "EPOCH: 16\n",
      "Training Loss: 0.146635469887847  | Validation Loss: 0.35916860306516607\n",
      "Training Accuracy: 0.9465685486793518  | Validation Accuracy: 0.8918358087539673\n"
     ]
    },
    {
     "name": "stderr",
     "output_type": "stream",
     "text": [
      "100%|████████████████████████████████████████████████████████████████████████████████| 422/422 [00:11<00:00, 36.04it/s]\n"
     ]
    },
    {
     "name": "stdout",
     "output_type": "stream",
     "text": [
      "EPOCH: 17\n",
      "Training Loss: 0.14314792199298668  | Validation Loss: 0.3565906695228942\n",
      "Training Accuracy: 0.9481997489929199  | Validation Accuracy: 0.8913129568099976\n"
     ]
    },
    {
     "name": "stderr",
     "output_type": "stream",
     "text": [
      "100%|████████████████████████████████████████████████████████████████████████████████| 422/422 [00:11<00:00, 35.60it/s]\n"
     ]
    },
    {
     "name": "stdout",
     "output_type": "stream",
     "text": [
      "EPOCH: 18\n",
      "Training Loss: 0.13725340271907113  | Validation Loss: 0.3613033817803606\n",
      "Training Accuracy: 0.9509133696556091  | Validation Accuracy: 0.8972964882850647\n"
     ]
    },
    {
     "name": "stderr",
     "output_type": "stream",
     "text": [
      "100%|████████████████████████████████████████████████████████████████████████████████| 422/422 [00:11<00:00, 37.13it/s]\n"
     ]
    },
    {
     "name": "stdout",
     "output_type": "stream",
     "text": [
      "EPOCH: 19\n",
      "Training Loss: 0.13623392938578863  | Validation Loss: 0.3799487767701453\n",
      "Training Accuracy: 0.950642466545105  | Validation Accuracy: 0.8912846446037292\n"
     ]
    },
    {
     "name": "stderr",
     "output_type": "stream",
     "text": [
      "100%|████████████████████████████████████████████████████████████████████████████████| 422/422 [00:09<00:00, 43.83it/s]\n"
     ]
    },
    {
     "name": "stdout",
     "output_type": "stream",
     "text": [
      "EPOCH: 20\n",
      "Training Loss: 0.13165172687356505  | Validation Loss: 0.39758582032741385\n",
      "Training Accuracy: 0.9529191255569458  | Validation Accuracy: 0.8884039521217346\n",
      "\n",
      "Test Accuracy: 0.8919999599456787 \n",
      "Time to Train: 0:04:35.318307\n"
     ]
    },
    {
     "data": {
      "image/png": "[encoded data removed]",
      "text/plain": [
       "<Figure size 1100x400 with 3 Axes>"
      ]
     },
     "metadata": {},
     "output_type": "display_data"
    }
   ],
   "source": [
    "PretrainedModelTrainer = ModelTrainer(PretrainedModel, nn.CrossEntropyLoss(), torch.optim.SGD(PretrainedModel.parameters(), lr=config.lr, momentum=0.9, weight_decay=0.0001), MulticlassAccuracy, \"Classification\", config.device, 10)\n",
    "\n",
    "t0 = datetime.now()\n",
    "\n",
    "PretrainedModelTrainer.fit(trainLoader, validateLoader, config.EPOCHS)\n",
    "t1 = datetime.now()\n",
    "PretrainedModelTrainer.Test_Model(testLoader)\n",
    "\n",
    "print(\"\\nTest Accuracy:\", PretrainedModelTrainer.Metrics[\"Test Accuracy\"], \"\\nTime to Train:\", t1 - t0)\n",
    "\n",
    "PretrainedModelTrainer.model.to(\"cpu\")\n",
    "PretrainedModelTrainer.Graph_Metrics()"
   ]
  },
  {
   "cell_type": "markdown",
   "id": "f88cad21-c6ad-4e2b-b961-0e3944b3dc49",
   "metadata": {},
   "source": [
    "### Compare the training time and number of epochs needed against 1.b and 1.c. 20pts\n",
    "Base = 4:15\n",
    "\n",
    "Decay = 4:37\n",
    "\n",
    "Drop = 4:26\n",
    "\n",
    "Pre-T = 4:35\n",
    "\n",
    "The decay seems to add an extra 20 seconds or so to training ( RTX 3080 10GB ) while the drop model seems to require only an extra 10 seconds of training time. With the Pretrained with weight decay and dropoout having about the same time as the Decay model. The base model seems to take a shorter amount of epochs to settle while the other models, drop and decay, setting much later towards 15 Epochs or so. However there is a much smaller generalization gap between them all."
   ]
  },
  {
   "cell_type": "code",
   "execution_count": 61,
   "id": "36743617-d598-4dd0-9e8b-7545eb8819d1",
   "metadata": {},
   "outputs": [
    {
     "name": "stdout",
     "output_type": "stream",
     "text": [
      "Prediction Values: tensor([[  2.5170,  -1.6920,  16.7883,  -3.8060,   8.7974,  -2.9128,   3.3370,\n",
      "          -6.8409,  -4.6725, -10.4738]]) 2\n"
     ]
    },
    {
     "data": {
      "image/png": "[encoded data removed]",
      "text/plain": [
       "<Figure size 640x480 with 1 Axes>"
      ]
     },
     "metadata": {},
     "output_type": "display_data"
    }
   ],
   "source": [
    "img, label = test_dataset[1]\n",
    "\n",
    "# Make a prediction based on test data\n",
    "with torch.no_grad():\n",
    "    pred = PretrainedModel(img.reshape(1,1,28,28)) # Replicate a batch with single image\n",
    "    pred_cls = torch.argmax(pred).item()\n",
    "\n",
    "img = np.array(img).reshape((28, 28, 1))\n",
    "\n",
    "# View some of the testing data and model predictions\n",
    "print(\"Prediction Values:\", pred, pred_cls)\n",
    "plt.imshow(img)\n",
    "_=plt.title(f\"Model Prediction: {definitions[pred_cls]} | Actual Label: {definitions[label]}\")"
   ]
  },
  {
   "cell_type": "markdown",
   "id": "08a14d6d-16c3-422f-a71e-07f242b6cabc",
   "metadata": {},
   "source": [
    "## Problem 2 Housing Dataset"
   ]
  },
  {
   "cell_type": "code",
   "execution_count": 14,
   "id": "dfb625cf-fd8a-4dba-85fd-8e817b7b9e17",
   "metadata": {},
   "outputs": [],
   "source": [
    "# A class build to hold all configurations to train the model\n",
    "class Configuration:\n",
    "    def __init__(self, root, EPOCHS, LR, batchSize):\n",
    "        self.root = root\n",
    "        \n",
    "        self.EPOCHS = EPOCHS\n",
    "        self.lr = LR\n",
    "        self.bs = batchSize\n",
    "        self.train_validate_percent = 0.90\n",
    "        \n",
    "        self.device = torch.device(\"cuda\" if torch.cuda.is_available() else \"cpu\")\n",
    "\n",
    "config = Configuration(root=\"datasets/HomePrices/\", EPOCHS=20, LR=0.003, batchSize=32)"
   ]
  },
  {
   "cell_type": "code",
   "execution_count": 15,
   "id": "8209da66-a905-48c1-8f41-84857c1f49ba",
   "metadata": {},
   "outputs": [
    {
     "data": {
      "text/html": [
       "<div>\n",
       "<style scoped>\n",
       "    .dataframe tbody tr th:only-of-type {\n",
       "        vertical-align: middle;\n",
       "    }\n",
       "\n",
       "    .dataframe tbody tr th {\n",
       "        vertical-align: top;\n",
       "    }\n",
       "\n",
       "    .dataframe thead th {\n",
       "        text-align: right;\n",
       "    }\n",
       "</style>\n",
       "<table border=\"1\" class=\"dataframe\">\n",
       "  <thead>\n",
       "    <tr style=\"text-align: right;\">\n",
       "      <th></th>\n",
       "      <th>Id</th>\n",
       "      <th>MSSubClass</th>\n",
       "      <th>MSZoning</th>\n",
       "      <th>LotFrontage</th>\n",
       "      <th>LotArea</th>\n",
       "      <th>Street</th>\n",
       "      <th>Alley</th>\n",
       "      <th>LotShape</th>\n",
       "      <th>LandContour</th>\n",
       "      <th>Utilities</th>\n",
       "      <th>...</th>\n",
       "      <th>PoolArea</th>\n",
       "      <th>PoolQC</th>\n",
       "      <th>Fence</th>\n",
       "      <th>MiscFeature</th>\n",
       "      <th>MiscVal</th>\n",
       "      <th>MoSold</th>\n",
       "      <th>YrSold</th>\n",
       "      <th>SaleType</th>\n",
       "      <th>SaleCondition</th>\n",
       "      <th>SalePrice</th>\n",
       "    </tr>\n",
       "  </thead>\n",
       "  <tbody>\n",
       "    <tr>\n",
       "      <th>0</th>\n",
       "      <td>1</td>\n",
       "      <td>60</td>\n",
       "      <td>RL</td>\n",
       "      <td>65.0</td>\n",
       "      <td>8450</td>\n",
       "      <td>Pave</td>\n",
       "      <td>NaN</td>\n",
       "      <td>Reg</td>\n",
       "      <td>Lvl</td>\n",
       "      <td>AllPub</td>\n",
       "      <td>...</td>\n",
       "      <td>0</td>\n",
       "      <td>NaN</td>\n",
       "      <td>NaN</td>\n",
       "      <td>NaN</td>\n",
       "      <td>0</td>\n",
       "      <td>2</td>\n",
       "      <td>2008</td>\n",
       "      <td>WD</td>\n",
       "      <td>Normal</td>\n",
       "      <td>208500</td>\n",
       "    </tr>\n",
       "    <tr>\n",
       "      <th>1</th>\n",
       "      <td>2</td>\n",
       "      <td>20</td>\n",
       "      <td>RL</td>\n",
       "      <td>80.0</td>\n",
       "      <td>9600</td>\n",
       "      <td>Pave</td>\n",
       "      <td>NaN</td>\n",
       "      <td>Reg</td>\n",
       "      <td>Lvl</td>\n",
       "      <td>AllPub</td>\n",
       "      <td>...</td>\n",
       "      <td>0</td>\n",
       "      <td>NaN</td>\n",
       "      <td>NaN</td>\n",
       "      <td>NaN</td>\n",
       "      <td>0</td>\n",
       "      <td>5</td>\n",
       "      <td>2007</td>\n",
       "      <td>WD</td>\n",
       "      <td>Normal</td>\n",
       "      <td>181500</td>\n",
       "    </tr>\n",
       "    <tr>\n",
       "      <th>2</th>\n",
       "      <td>3</td>\n",
       "      <td>60</td>\n",
       "      <td>RL</td>\n",
       "      <td>68.0</td>\n",
       "      <td>11250</td>\n",
       "      <td>Pave</td>\n",
       "      <td>NaN</td>\n",
       "      <td>IR1</td>\n",
       "      <td>Lvl</td>\n",
       "      <td>AllPub</td>\n",
       "      <td>...</td>\n",
       "      <td>0</td>\n",
       "      <td>NaN</td>\n",
       "      <td>NaN</td>\n",
       "      <td>NaN</td>\n",
       "      <td>0</td>\n",
       "      <td>9</td>\n",
       "      <td>2008</td>\n",
       "      <td>WD</td>\n",
       "      <td>Normal</td>\n",
       "      <td>223500</td>\n",
       "    </tr>\n",
       "    <tr>\n",
       "      <th>3</th>\n",
       "      <td>4</td>\n",
       "      <td>70</td>\n",
       "      <td>RL</td>\n",
       "      <td>60.0</td>\n",
       "      <td>9550</td>\n",
       "      <td>Pave</td>\n",
       "      <td>NaN</td>\n",
       "      <td>IR1</td>\n",
       "      <td>Lvl</td>\n",
       "      <td>AllPub</td>\n",
       "      <td>...</td>\n",
       "      <td>0</td>\n",
       "      <td>NaN</td>\n",
       "      <td>NaN</td>\n",
       "      <td>NaN</td>\n",
       "      <td>0</td>\n",
       "      <td>2</td>\n",
       "      <td>2006</td>\n",
       "      <td>WD</td>\n",
       "      <td>Abnorml</td>\n",
       "      <td>140000</td>\n",
       "    </tr>\n",
       "    <tr>\n",
       "      <th>4</th>\n",
       "      <td>5</td>\n",
       "      <td>60</td>\n",
       "      <td>RL</td>\n",
       "      <td>84.0</td>\n",
       "      <td>14260</td>\n",
       "      <td>Pave</td>\n",
       "      <td>NaN</td>\n",
       "      <td>IR1</td>\n",
       "      <td>Lvl</td>\n",
       "      <td>AllPub</td>\n",
       "      <td>...</td>\n",
       "      <td>0</td>\n",
       "      <td>NaN</td>\n",
       "      <td>NaN</td>\n",
       "      <td>NaN</td>\n",
       "      <td>0</td>\n",
       "      <td>12</td>\n",
       "      <td>2008</td>\n",
       "      <td>WD</td>\n",
       "      <td>Normal</td>\n",
       "      <td>250000</td>\n",
       "    </tr>\n",
       "  </tbody>\n",
       "</table>\n",
       "<p>5 rows × 81 columns</p>\n",
       "</div>"
      ],
      "text/plain": [
       "   Id  MSSubClass MSZoning  LotFrontage  LotArea Street Alley LotShape  \\\n",
       "0   1          60       RL         65.0     8450   Pave   NaN      Reg   \n",
       "1   2          20       RL         80.0     9600   Pave   NaN      Reg   \n",
       "2   3          60       RL         68.0    11250   Pave   NaN      IR1   \n",
       "3   4          70       RL         60.0     9550   Pave   NaN      IR1   \n",
       "4   5          60       RL         84.0    14260   Pave   NaN      IR1   \n",
       "\n",
       "  LandContour Utilities  ... PoolArea PoolQC Fence MiscFeature MiscVal MoSold  \\\n",
       "0         Lvl    AllPub  ...        0    NaN   NaN         NaN       0      2   \n",
       "1         Lvl    AllPub  ...        0    NaN   NaN         NaN       0      5   \n",
       "2         Lvl    AllPub  ...        0    NaN   NaN         NaN       0      9   \n",
       "3         Lvl    AllPub  ...        0    NaN   NaN         NaN       0      2   \n",
       "4         Lvl    AllPub  ...        0    NaN   NaN         NaN       0     12   \n",
       "\n",
       "  YrSold  SaleType  SaleCondition  SalePrice  \n",
       "0   2008        WD         Normal     208500  \n",
       "1   2007        WD         Normal     181500  \n",
       "2   2008        WD         Normal     223500  \n",
       "3   2006        WD        Abnorml     140000  \n",
       "4   2008        WD         Normal     250000  \n",
       "\n",
       "[5 rows x 81 columns]"
      ]
     },
     "execution_count": 15,
     "metadata": {},
     "output_type": "execute_result"
    }
   ],
   "source": [
    "train_csv = pd.read_csv(config.root+\"train.csv\")\n",
    "test_csv = pd.read_csv(config.root+\"test.csv\")\n",
    "train_csv.head()"
   ]
  },
  {
   "cell_type": "markdown",
   "id": "6ac0df8f-6fbe-4cc2-8459-2fd73908bfdb",
   "metadata": {},
   "source": [
    "### 2.a What happens if we need to standardize the continuous numerical features? 10pts\n",
    "Standardizing the features gives the model a better understanding of the distrubution of the data. It allows the model to better predict values since they are within a pre-defined range. The weights of the model are better able to adapt to the dataset. The data will now have a mean of 0 and a standard deviation of 1."
   ]
  },
  {
   "cell_type": "code",
   "execution_count": 16,
   "id": "78ee7e23-1101-4863-a115-896861b86988",
   "metadata": {},
   "outputs": [],
   "source": [
    "def preprocess(train, test, label='SalePrice'):\n",
    "    \n",
    "    features = pd.concat((train.drop(columns=['Id', label]), test.drop(columns=['Id'])))\n",
    "    numeric_features = features.dtypes[features.dtypes != 'object'].index\n",
    "    \n",
    "    features[numeric_features] = features[numeric_features].apply(lambda x: (x - x.mean()) / (x.std()))\n",
    "    features[numeric_features] = features[numeric_features].fillna(0)\n",
    "    features = pd.get_dummies(features, dummy_na=True)\n",
    "    \n",
    "    train_csv = features[:train.shape[0]].copy()\n",
    "    \n",
    "    normVals = (train[label].mean(), train[label].std())\n",
    "    print(normVals)\n",
    "    \n",
    "    train_csv[label] = ( train[label] - normVals[0] ) / normVals[1]\n",
    "    test_csv = features[train.shape[0]:].copy()\n",
    "    \n",
    "    return train_csv, test_csv"
   ]
  },
  {
   "cell_type": "code",
   "execution_count": 17,
   "id": "66a9c354-2557-4c5f-a6c8-ebe29e4c8457",
   "metadata": {},
   "outputs": [
    {
     "name": "stdout",
     "output_type": "stream",
     "text": [
      "(180921.19589041095, 79442.50288288662)\n"
     ]
    },
    {
     "data": {
      "text/html": [
       "<div>\n",
       "<style scoped>\n",
       "    .dataframe tbody tr th:only-of-type {\n",
       "        vertical-align: middle;\n",
       "    }\n",
       "\n",
       "    .dataframe tbody tr th {\n",
       "        vertical-align: top;\n",
       "    }\n",
       "\n",
       "    .dataframe thead th {\n",
       "        text-align: right;\n",
       "    }\n",
       "</style>\n",
       "<table border=\"1\" class=\"dataframe\">\n",
       "  <thead>\n",
       "    <tr style=\"text-align: right;\">\n",
       "      <th></th>\n",
       "      <th>MSSubClass</th>\n",
       "      <th>LotFrontage</th>\n",
       "      <th>LotArea</th>\n",
       "      <th>OverallQual</th>\n",
       "      <th>OverallCond</th>\n",
       "      <th>YearBuilt</th>\n",
       "      <th>YearRemodAdd</th>\n",
       "      <th>MasVnrArea</th>\n",
       "      <th>BsmtFinSF1</th>\n",
       "      <th>BsmtFinSF2</th>\n",
       "      <th>...</th>\n",
       "      <th>SaleType_WD</th>\n",
       "      <th>SaleType_nan</th>\n",
       "      <th>SaleCondition_Abnorml</th>\n",
       "      <th>SaleCondition_AdjLand</th>\n",
       "      <th>SaleCondition_Alloca</th>\n",
       "      <th>SaleCondition_Family</th>\n",
       "      <th>SaleCondition_Normal</th>\n",
       "      <th>SaleCondition_Partial</th>\n",
       "      <th>SaleCondition_nan</th>\n",
       "      <th>SalePrice</th>\n",
       "    </tr>\n",
       "  </thead>\n",
       "  <tbody>\n",
       "    <tr>\n",
       "      <th>0</th>\n",
       "      <td>0.067320</td>\n",
       "      <td>-0.184443</td>\n",
       "      <td>-0.217841</td>\n",
       "      <td>0.646073</td>\n",
       "      <td>-0.507197</td>\n",
       "      <td>1.046078</td>\n",
       "      <td>0.896679</td>\n",
       "      <td>0.523038</td>\n",
       "      <td>0.580708</td>\n",
       "      <td>-0.29303</td>\n",
       "      <td>...</td>\n",
       "      <td>1</td>\n",
       "      <td>0</td>\n",
       "      <td>0</td>\n",
       "      <td>0</td>\n",
       "      <td>0</td>\n",
       "      <td>0</td>\n",
       "      <td>1</td>\n",
       "      <td>0</td>\n",
       "      <td>0</td>\n",
       "      <td>0.347154</td>\n",
       "    </tr>\n",
       "    <tr>\n",
       "      <th>1</th>\n",
       "      <td>-0.873466</td>\n",
       "      <td>0.458096</td>\n",
       "      <td>-0.072032</td>\n",
       "      <td>-0.063174</td>\n",
       "      <td>2.187904</td>\n",
       "      <td>0.154737</td>\n",
       "      <td>-0.395536</td>\n",
       "      <td>-0.569893</td>\n",
       "      <td>1.177709</td>\n",
       "      <td>-0.29303</td>\n",
       "      <td>...</td>\n",
       "      <td>1</td>\n",
       "      <td>0</td>\n",
       "      <td>0</td>\n",
       "      <td>0</td>\n",
       "      <td>0</td>\n",
       "      <td>0</td>\n",
       "      <td>1</td>\n",
       "      <td>0</td>\n",
       "      <td>0</td>\n",
       "      <td>0.007286</td>\n",
       "    </tr>\n",
       "    <tr>\n",
       "      <th>2</th>\n",
       "      <td>0.067320</td>\n",
       "      <td>-0.055935</td>\n",
       "      <td>0.137173</td>\n",
       "      <td>0.646073</td>\n",
       "      <td>-0.507197</td>\n",
       "      <td>0.980053</td>\n",
       "      <td>0.848819</td>\n",
       "      <td>0.333448</td>\n",
       "      <td>0.097840</td>\n",
       "      <td>-0.29303</td>\n",
       "      <td>...</td>\n",
       "      <td>1</td>\n",
       "      <td>0</td>\n",
       "      <td>0</td>\n",
       "      <td>0</td>\n",
       "      <td>0</td>\n",
       "      <td>0</td>\n",
       "      <td>1</td>\n",
       "      <td>0</td>\n",
       "      <td>0</td>\n",
       "      <td>0.535970</td>\n",
       "    </tr>\n",
       "    <tr>\n",
       "      <th>3</th>\n",
       "      <td>0.302516</td>\n",
       "      <td>-0.398622</td>\n",
       "      <td>-0.078371</td>\n",
       "      <td>0.646073</td>\n",
       "      <td>-0.507197</td>\n",
       "      <td>-1.859033</td>\n",
       "      <td>-0.682695</td>\n",
       "      <td>-0.569893</td>\n",
       "      <td>-0.494771</td>\n",
       "      <td>-0.29303</td>\n",
       "      <td>...</td>\n",
       "      <td>1</td>\n",
       "      <td>0</td>\n",
       "      <td>1</td>\n",
       "      <td>0</td>\n",
       "      <td>0</td>\n",
       "      <td>0</td>\n",
       "      <td>0</td>\n",
       "      <td>0</td>\n",
       "      <td>0</td>\n",
       "      <td>-0.515105</td>\n",
       "    </tr>\n",
       "    <tr>\n",
       "      <th>4</th>\n",
       "      <td>0.067320</td>\n",
       "      <td>0.629439</td>\n",
       "      <td>0.518814</td>\n",
       "      <td>1.355319</td>\n",
       "      <td>-0.507197</td>\n",
       "      <td>0.947040</td>\n",
       "      <td>0.753100</td>\n",
       "      <td>1.381770</td>\n",
       "      <td>0.468770</td>\n",
       "      <td>-0.29303</td>\n",
       "      <td>...</td>\n",
       "      <td>1</td>\n",
       "      <td>0</td>\n",
       "      <td>0</td>\n",
       "      <td>0</td>\n",
       "      <td>0</td>\n",
       "      <td>0</td>\n",
       "      <td>1</td>\n",
       "      <td>0</td>\n",
       "      <td>0</td>\n",
       "      <td>0.869545</td>\n",
       "    </tr>\n",
       "  </tbody>\n",
       "</table>\n",
       "<p>5 rows × 332 columns</p>\n",
       "</div>"
      ],
      "text/plain": [
       "   MSSubClass  LotFrontage   LotArea  OverallQual  OverallCond  YearBuilt  \\\n",
       "0    0.067320    -0.184443 -0.217841     0.646073    -0.507197   1.046078   \n",
       "1   -0.873466     0.458096 -0.072032    -0.063174     2.187904   0.154737   \n",
       "2    0.067320    -0.055935  0.137173     0.646073    -0.507197   0.980053   \n",
       "3    0.302516    -0.398622 -0.078371     0.646073    -0.507197  -1.859033   \n",
       "4    0.067320     0.629439  0.518814     1.355319    -0.507197   0.947040   \n",
       "\n",
       "   YearRemodAdd  MasVnrArea  BsmtFinSF1  BsmtFinSF2  ...  SaleType_WD  \\\n",
       "0      0.896679    0.523038    0.580708    -0.29303  ...            1   \n",
       "1     -0.395536   -0.569893    1.177709    -0.29303  ...            1   \n",
       "2      0.848819    0.333448    0.097840    -0.29303  ...            1   \n",
       "3     -0.682695   -0.569893   -0.494771    -0.29303  ...            1   \n",
       "4      0.753100    1.381770    0.468770    -0.29303  ...            1   \n",
       "\n",
       "   SaleType_nan  SaleCondition_Abnorml  SaleCondition_AdjLand  \\\n",
       "0             0                      0                      0   \n",
       "1             0                      0                      0   \n",
       "2             0                      0                      0   \n",
       "3             0                      1                      0   \n",
       "4             0                      0                      0   \n",
       "\n",
       "   SaleCondition_Alloca  SaleCondition_Family  SaleCondition_Normal  \\\n",
       "0                     0                     0                     1   \n",
       "1                     0                     0                     1   \n",
       "2                     0                     0                     1   \n",
       "3                     0                     0                     0   \n",
       "4                     0                     0                     1   \n",
       "\n",
       "   SaleCondition_Partial  SaleCondition_nan  SalePrice  \n",
       "0                      0                  0   0.347154  \n",
       "1                      0                  0   0.007286  \n",
       "2                      0                  0   0.535970  \n",
       "3                      0                  0  -0.515105  \n",
       "4                      0                  0   0.869545  \n",
       "\n",
       "[5 rows x 332 columns]"
      ]
     },
     "execution_count": 17,
     "metadata": {},
     "output_type": "execute_result"
    }
   ],
   "source": [
    "pro_train_csv, pro_test_csv = preprocess(train_csv, test_csv)\n",
    "pro_train_csv.head()"
   ]
  },
  {
   "cell_type": "code",
   "execution_count": 18,
   "id": "d1b39eab-0530-4895-b237-265cf85603e0",
   "metadata": {},
   "outputs": [
    {
     "name": "stderr",
     "output_type": "stream",
     "text": [
      "C:\\Users\\gmald\\anaconda3\\envs\\genml\\lib\\site-packages\\torch\\nn\\modules\\lazy.py:180: UserWarning: Lazy modules are a new feature under heavy development so changes to the API or functionality can happen at any moment.\n",
      "  warnings.warn('Lazy modules are a new feature under heavy development '\n"
     ]
    }
   ],
   "source": [
    "lectureModel = nn.Sequential(\n",
    "    nn.LazyLinear(256),\n",
    "    nn.ReLU(),\n",
    "    nn.LazyLinear(10),\n",
    ")\n",
    "\n",
    "\n",
    "class HousingModel(nn.Module):\n",
    "    def __init__(self):\n",
    "        super(HousingModel, self).__init__()\n",
    "        \n",
    "        # Determined from output data \n",
    "        self.mean = 180921.19589041095\n",
    "        self.std = 79442.50288288662\n",
    "        self.unNormalize = False    \n",
    "        self.Dropout = False\n",
    "        self.D1 = nn.Dropout(0.3)\n",
    "        \n",
    "        self.layer1 = nn.LazyLinear(256)\n",
    "        self.relu1 = nn.ReLU()\n",
    "        self.layer2 = nn.LazyLinear(256)\n",
    "        self.relu2 = nn.ReLU()\n",
    "        self.layer3 = nn.LazyLinear(128)\n",
    "        self.relu3 = nn.ReLU()\n",
    "        self.layer4 = nn.LazyLinear(1)\n",
    "    \n",
    "    def forward(self, x):\n",
    "        x = self.layer1(x)\n",
    "        x = self.relu1(x)\n",
    "        x = self.layer2(x)  \n",
    "        x = self.relu2(x)\n",
    "        if self.Dropout:\n",
    "            x = self.D1(x)\n",
    "        x = self.layer3(x)\n",
    "        x = self.relu3(x)\n",
    "        x = self.layer4(x)\n",
    "        \n",
    "        # Out the normalization after training is complete\n",
    "        if self.unNormalize:\n",
    "            x = x * self.std + self.mean\n",
    "        \n",
    "        return x\n",
    "\n",
    "housingModel = HousingModel()"
   ]
  },
  {
   "cell_type": "code",
   "execution_count": 19,
   "id": "d088a549-e912-409a-a143-580f9ac6aaf1",
   "metadata": {},
   "outputs": [],
   "source": [
    "# Simple custom housing dataset\n",
    "class housing_dataset(torch.utils.data.Dataset):\n",
    "    def __init__(self, df):\n",
    "        self.df = df\n",
    "\n",
    "    def __len__(self):\n",
    "        return len(self.df)\n",
    "\n",
    "    def __getitem__(self, idx):\n",
    "        row = self.df.iloc[idx]\n",
    "        \n",
    "        dimensions = torch.Tensor(row.values)\n",
    "        label = dimensions[-1]\n",
    "        \n",
    "        return (dimensions[:-1], label)"
   ]
  },
  {
   "cell_type": "code",
   "execution_count": 20,
   "id": "1dec8d28-6851-436d-8236-d635bc59c6f0",
   "metadata": {},
   "outputs": [],
   "source": [
    "train_dataset_housing = housing_dataset(pro_train_csv)\n",
    "\n",
    "validNum = int(len(train_dataset_housing) * config.train_validate_percent)\n",
    "train_dataset_housing, valid_dataset_housing = random_split(train_dataset_housing, [validNum, len(train_dataset_housing) - validNum])\n",
    "\n",
    "trainLoaderHousing = DataLoader(train_dataset_housing, batch_size=config.bs, shuffle=True, num_workers=0)\n",
    "validateLoaderHousing = DataLoader(valid_dataset_housing, batch_size=config.bs, shuffle=True, num_workers=0)"
   ]
  },
  {
   "cell_type": "markdown",
   "id": "f373daa8-c962-48f0-b2a3-a30069c8d97c",
   "metadata": {},
   "source": [
    "### 2.b Improve the score by improving the model complexity"
   ]
  },
  {
   "cell_type": "code",
   "execution_count": 21,
   "id": "3b80f847-4bca-43ff-a87e-d1a7ccbbf83d",
   "metadata": {
    "scrolled": true,
    "tags": []
   },
   "outputs": [
    {
     "name": "stderr",
     "output_type": "stream",
     "text": [
      "C:\\Users\\gmald\\anaconda3\\envs\\genml\\lib\\site-packages\\torch\\nn\\modules\\loss.py:536: UserWarning: Using a target size (torch.Size([32, 1])) that is different to the input size (torch.Size([32, 10])). This will likely lead to incorrect results due to broadcasting. Please ensure they have the same size.\n",
      "  return F.mse_loss(input, target, reduction=self.reduction)\n",
      "C:\\Users\\gmald\\anaconda3\\envs\\genml\\lib\\site-packages\\torch\\nn\\modules\\loss.py:536: UserWarning: Using a target size (torch.Size([18, 1])) that is different to the input size (torch.Size([18, 10])). This will likely lead to incorrect results due to broadcasting. Please ensure they have the same size.\n",
      "  return F.mse_loss(input, target, reduction=self.reduction)\n",
      " 86%|█████████████████████████████████████████████████████████████████████▍           | 36/42 [00:00<00:00, 117.46it/s]C:\\Users\\gmald\\anaconda3\\envs\\genml\\lib\\site-packages\\torch\\nn\\modules\\loss.py:536: UserWarning: Using a target size (torch.Size([2, 1])) that is different to the input size (torch.Size([2, 10])). This will likely lead to incorrect results due to broadcasting. Please ensure they have the same size.\n",
      "  return F.mse_loss(input, target, reduction=self.reduction)\n",
      "100%|█████████████████████████████████████████████████████████████████████████████████| 42/42 [00:00<00:00, 117.65it/s]\n"
     ]
    },
    {
     "name": "stdout",
     "output_type": "stream",
     "text": [
      "EPOCH: 1\n",
      "Training Loss: 0.7784811776308787  | Validation Loss: 0.8612303733825684\n"
     ]
    },
    {
     "name": "stderr",
     "output_type": "stream",
     "text": [
      "100%|█████████████████████████████████████████████████████████████████████████████████| 42/42 [00:00<00:00, 109.09it/s]\n"
     ]
    },
    {
     "name": "stdout",
     "output_type": "stream",
     "text": [
      "EPOCH: 2\n",
      "Training Loss: 0.2787889712711885  | Validation Loss: 0.33825902044773104\n"
     ]
    },
    {
     "name": "stderr",
     "output_type": "stream",
     "text": [
      "100%|█████████████████████████████████████████████████████████████████████████████████| 42/42 [00:00<00:00, 144.33it/s]\n"
     ]
    },
    {
     "name": "stdout",
     "output_type": "stream",
     "text": [
      "EPOCH: 3\n",
      "Training Loss: 0.2093064600069608  | Validation Loss: 0.13485100269317626\n"
     ]
    },
    {
     "name": "stderr",
     "output_type": "stream",
     "text": [
      "100%|█████████████████████████████████████████████████████████████████████████████████| 42/42 [00:00<00:00, 148.94it/s]\n"
     ]
    },
    {
     "name": "stdout",
     "output_type": "stream",
     "text": [
      "EPOCH: 4\n",
      "Training Loss: 0.1865333207838592  | Validation Loss: 0.1210961639881134\n"
     ]
    },
    {
     "name": "stderr",
     "output_type": "stream",
     "text": [
      "100%|█████████████████████████████████████████████████████████████████████████████████| 42/42 [00:00<00:00, 146.34it/s]\n"
     ]
    },
    {
     "name": "stdout",
     "output_type": "stream",
     "text": [
      "EPOCH: 5\n",
      "Training Loss: 0.1731827807657066  | Validation Loss: 0.11097840815782548\n"
     ]
    },
    {
     "name": "stderr",
     "output_type": "stream",
     "text": [
      "100%|█████████████████████████████████████████████████████████████████████████████████| 42/42 [00:00<00:00, 146.34it/s]\n"
     ]
    },
    {
     "name": "stdout",
     "output_type": "stream",
     "text": [
      "EPOCH: 6\n",
      "Training Loss: 0.16367223468564807  | Validation Loss: 0.0996519684791565\n"
     ]
    },
    {
     "name": "stderr",
     "output_type": "stream",
     "text": [
      "100%|█████████████████████████████████████████████████████████████████████████████████| 42/42 [00:00<00:00, 147.11it/s]\n"
     ]
    },
    {
     "name": "stdout",
     "output_type": "stream",
     "text": [
      "EPOCH: 7\n",
      "Training Loss: 0.1519490745184677  | Validation Loss: 0.09706960171461106\n"
     ]
    },
    {
     "name": "stderr",
     "output_type": "stream",
     "text": [
      "100%|█████████████████████████████████████████████████████████████████████████████████| 42/42 [00:00<00:00, 148.41it/s]\n"
     ]
    },
    {
     "name": "stdout",
     "output_type": "stream",
     "text": [
      "EPOCH: 8\n",
      "Training Loss: 0.15089068863363492  | Validation Loss: 0.10039720386266708\n"
     ]
    },
    {
     "name": "stderr",
     "output_type": "stream",
     "text": [
      "100%|█████████████████████████████████████████████████████████████████████████████████| 42/42 [00:00<00:00, 143.34it/s]\n"
     ]
    },
    {
     "name": "stdout",
     "output_type": "stream",
     "text": [
      "EPOCH: 9\n",
      "Training Loss: 0.1433055212809926  | Validation Loss: 0.0886411115527153\n"
     ]
    },
    {
     "name": "stderr",
     "output_type": "stream",
     "text": [
      "100%|█████████████████████████████████████████████████████████████████████████████████| 42/42 [00:00<00:00, 145.83it/s]\n"
     ]
    },
    {
     "name": "stdout",
     "output_type": "stream",
     "text": [
      "EPOCH: 10\n",
      "Training Loss: 0.13319278832170225  | Validation Loss: 0.10341267436742782\n"
     ]
    },
    {
     "name": "stderr",
     "output_type": "stream",
     "text": [
      "100%|█████████████████████████████████████████████████████████████████████████████████| 42/42 [00:00<00:00, 148.41it/s]\n"
     ]
    },
    {
     "name": "stdout",
     "output_type": "stream",
     "text": [
      "EPOCH: 11\n",
      "Training Loss: 0.12864491414456142  | Validation Loss: 0.08194089531898499\n"
     ]
    },
    {
     "name": "stderr",
     "output_type": "stream",
     "text": [
      "100%|█████████████████████████████████████████████████████████████████████████████████| 42/42 [00:00<00:00, 143.84it/s]\n"
     ]
    },
    {
     "name": "stdout",
     "output_type": "stream",
     "text": [
      "EPOCH: 12\n",
      "Training Loss: 0.12603297031351499  | Validation Loss: 0.08548827320337296\n"
     ]
    },
    {
     "name": "stderr",
     "output_type": "stream",
     "text": [
      "100%|█████████████████████████████████████████████████████████████████████████████████| 42/42 [00:00<00:00, 147.11it/s]\n"
     ]
    },
    {
     "name": "stdout",
     "output_type": "stream",
     "text": [
      "EPOCH: 13\n",
      "Training Loss: 0.12159728172368237  | Validation Loss: 0.10141722857952118\n"
     ]
    },
    {
     "name": "stderr",
     "output_type": "stream",
     "text": [
      "100%|█████████████████████████████████████████████████████████████████████████████████| 42/42 [00:00<00:00, 140.23it/s]\n"
     ]
    },
    {
     "name": "stdout",
     "output_type": "stream",
     "text": [
      "EPOCH: 14\n",
      "Training Loss: 0.1223911853241069  | Validation Loss: 0.08325557857751846\n"
     ]
    },
    {
     "name": "stderr",
     "output_type": "stream",
     "text": [
      "100%|█████████████████████████████████████████████████████████████████████████████████| 42/42 [00:00<00:00, 140.24it/s]\n"
     ]
    },
    {
     "name": "stdout",
     "output_type": "stream",
     "text": [
      "EPOCH: 15\n",
      "Training Loss: 0.11866520682261103  | Validation Loss: 0.07953126430511474\n"
     ]
    },
    {
     "name": "stderr",
     "output_type": "stream",
     "text": [
      "100%|█████████████████████████████████████████████████████████████████████████████████| 42/42 [00:00<00:00, 130.23it/s]\n"
     ]
    },
    {
     "name": "stdout",
     "output_type": "stream",
     "text": [
      "EPOCH: 16\n",
      "Training Loss: 0.11259522994181939  | Validation Loss: 0.08923850059509278\n"
     ]
    },
    {
     "name": "stderr",
     "output_type": "stream",
     "text": [
      "100%|█████████████████████████████████████████████████████████████████████████████████| 42/42 [00:00<00:00, 137.25it/s]\n"
     ]
    },
    {
     "name": "stdout",
     "output_type": "stream",
     "text": [
      "EPOCH: 17\n",
      "Training Loss: 0.1109888068888159  | Validation Loss: 0.08411282151937485\n"
     ]
    },
    {
     "name": "stderr",
     "output_type": "stream",
     "text": [
      "100%|█████████████████████████████████████████████████████████████████████████████████| 42/42 [00:00<00:00, 130.43it/s]\n"
     ]
    },
    {
     "name": "stdout",
     "output_type": "stream",
     "text": [
      "EPOCH: 18\n",
      "Training Loss: 0.10599883996127617  | Validation Loss: 0.08446943014860153\n"
     ]
    },
    {
     "name": "stderr",
     "output_type": "stream",
     "text": [
      "100%|█████████████████████████████████████████████████████████████████████████████████| 42/42 [00:00<00:00, 123.89it/s]\n"
     ]
    },
    {
     "name": "stdout",
     "output_type": "stream",
     "text": [
      "EPOCH: 19\n",
      "Training Loss: 0.10563899181960594  | Validation Loss: 0.08011212274432182\n"
     ]
    },
    {
     "name": "stderr",
     "output_type": "stream",
     "text": [
      "100%|█████████████████████████████████████████████████████████████████████████████████| 42/42 [00:00<00:00, 127.27it/s]\n"
     ]
    },
    {
     "name": "stdout",
     "output_type": "stream",
     "text": [
      "EPOCH: 20\n",
      "Training Loss: 0.10175916233233043  | Validation Loss: 0.08030761182308196\n",
      "Time to Train: 0:00:06.812999\n"
     ]
    },
    {
     "data": {
      "image/png": "[encoded data removed]",
      "text/plain": [
       "<Figure size 1100x400 with 3 Axes>"
      ]
     },
     "metadata": {},
     "output_type": "display_data"
    }
   ],
   "source": [
    "from utils.Trainer import ModelTrainer\n",
    "\n",
    "LectureModel = copy.deepcopy(lectureModel)\n",
    "LectureHousingTrainer = ModelTrainer(LectureModel, nn.MSELoss(), torch.optim.SGD(LectureModel.parameters(), lr=config.lr, momentum=0.9), nn.MSELoss(), \"Regression\",  config.device)\n",
    "\n",
    "t0 = datetime.now()\n",
    "\n",
    "LectureHousingTrainer.fit(trainLoaderHousing, validateLoaderHousing, config.EPOCHS)\n",
    "t1 = datetime.now()\n",
    "\n",
    "print(\"Time to Train:\", t1 - t0)\n",
    "LectureHousingTrainer.model.to(\"cpu\")\n",
    "LectureHousingTrainer.Graph_Metrics()"
   ]
  },
  {
   "cell_type": "code",
   "execution_count": 22,
   "id": "6c907708-d7c5-4357-ad2a-56f1268a667c",
   "metadata": {
    "scrolled": true,
    "tags": []
   },
   "outputs": [
    {
     "name": "stderr",
     "output_type": "stream",
     "text": [
      "100%|█████████████████████████████████████████████████████████████████████████████████| 42/42 [00:00<00:00, 116.50it/s]\n"
     ]
    },
    {
     "name": "stdout",
     "output_type": "stream",
     "text": [
      "EPOCH: 1\n",
      "Training Loss: 0.9549666827633267  | Validation Loss: 0.8112511336803436\n"
     ]
    },
    {
     "name": "stderr",
     "output_type": "stream",
     "text": [
      "100%|█████████████████████████████████████████████████████████████████████████████████| 42/42 [00:00<00:00, 107.28it/s]\n"
     ]
    },
    {
     "name": "stdout",
     "output_type": "stream",
     "text": [
      "EPOCH: 2\n",
      "Training Loss: 0.4567020677384876  | Validation Loss: 0.6517143487930298\n"
     ]
    },
    {
     "name": "stderr",
     "output_type": "stream",
     "text": [
      "100%|█████████████████████████████████████████████████████████████████████████████████| 42/42 [00:00<00:00, 136.59it/s]\n"
     ]
    },
    {
     "name": "stdout",
     "output_type": "stream",
     "text": [
      "EPOCH: 3\n",
      "Training Loss: 0.20199081922570863  | Validation Loss: 0.1344958908855915\n"
     ]
    },
    {
     "name": "stderr",
     "output_type": "stream",
     "text": [
      "100%|█████████████████████████████████████████████████████████████████████████████████| 42/42 [00:00<00:00, 140.23it/s]\n"
     ]
    },
    {
     "name": "stdout",
     "output_type": "stream",
     "text": [
      "EPOCH: 4\n",
      "Training Loss: 0.17544545836391903  | Validation Loss: 0.10688659474253655\n"
     ]
    },
    {
     "name": "stderr",
     "output_type": "stream",
     "text": [
      "100%|█████████████████████████████████████████████████████████████████████████████████| 42/42 [00:00<00:00, 140.94it/s]\n"
     ]
    },
    {
     "name": "stdout",
     "output_type": "stream",
     "text": [
      "EPOCH: 5\n",
      "Training Loss: 0.1581030257401012  | Validation Loss: 0.09681389406323433\n"
     ]
    },
    {
     "name": "stderr",
     "output_type": "stream",
     "text": [
      "100%|█████████████████████████████████████████████████████████████████████████████████| 42/42 [00:00<00:00, 138.84it/s]\n"
     ]
    },
    {
     "name": "stdout",
     "output_type": "stream",
     "text": [
      "EPOCH: 6\n",
      "Training Loss: 0.13125767869253954  | Validation Loss: 0.10282623618841172\n"
     ]
    },
    {
     "name": "stderr",
     "output_type": "stream",
     "text": [
      "100%|█████████████████████████████████████████████████████████████████████████████████| 42/42 [00:00<00:00, 141.18it/s]\n"
     ]
    },
    {
     "name": "stdout",
     "output_type": "stream",
     "text": [
      "EPOCH: 7\n",
      "Training Loss: 0.1159558075347117  | Validation Loss: 0.09019685089588166\n"
     ]
    },
    {
     "name": "stderr",
     "output_type": "stream",
     "text": [
      "100%|█████████████████████████████████████████████████████████████████████████████████| 42/42 [00:00<00:00, 134.83it/s]\n"
     ]
    },
    {
     "name": "stdout",
     "output_type": "stream",
     "text": [
      "EPOCH: 8\n",
      "Training Loss: 0.10881643762279834  | Validation Loss: 0.1090308040380478\n"
     ]
    },
    {
     "name": "stderr",
     "output_type": "stream",
     "text": [
      "100%|█████████████████████████████████████████████████████████████████████████████████| 42/42 [00:00<00:00, 136.59it/s]\n"
     ]
    },
    {
     "name": "stdout",
     "output_type": "stream",
     "text": [
      "EPOCH: 9\n",
      "Training Loss: 0.09527666046051309  | Validation Loss: 0.08501822054386139\n"
     ]
    },
    {
     "name": "stderr",
     "output_type": "stream",
     "text": [
      "100%|█████████████████████████████████████████████████████████████████████████████████| 42/42 [00:00<00:00, 141.18it/s]\n"
     ]
    },
    {
     "name": "stdout",
     "output_type": "stream",
     "text": [
      "EPOCH: 10\n",
      "Training Loss: 0.08373909787994871  | Validation Loss: 0.07863801270723343\n"
     ]
    },
    {
     "name": "stderr",
     "output_type": "stream",
     "text": [
      "100%|█████████████████████████████████████████████████████████████████████████████████| 42/42 [00:00<00:00, 137.03it/s]\n"
     ]
    },
    {
     "name": "stdout",
     "output_type": "stream",
     "text": [
      "EPOCH: 11\n",
      "Training Loss: 0.07494814676188287  | Validation Loss: 0.07294543534517288\n"
     ]
    },
    {
     "name": "stderr",
     "output_type": "stream",
     "text": [
      "100%|█████████████████████████████████████████████████████████████████████████████████| 42/42 [00:00<00:00, 139.07it/s]\n"
     ]
    },
    {
     "name": "stdout",
     "output_type": "stream",
     "text": [
      "EPOCH: 12\n",
      "Training Loss: 0.07204698026180267  | Validation Loss: 0.08819386214017869\n"
     ]
    },
    {
     "name": "stderr",
     "output_type": "stream",
     "text": [
      "100%|█████████████████████████████████████████████████████████████████████████████████| 42/42 [00:00<00:00, 127.47it/s]\n"
     ]
    },
    {
     "name": "stdout",
     "output_type": "stream",
     "text": [
      "EPOCH: 13\n",
      "Training Loss: 0.06583736943347114  | Validation Loss: 0.08486773073673248\n"
     ]
    },
    {
     "name": "stderr",
     "output_type": "stream",
     "text": [
      "100%|█████████████████████████████████████████████████████████████████████████████████| 42/42 [00:00<00:00, 138.16it/s]\n"
     ]
    },
    {
     "name": "stdout",
     "output_type": "stream",
     "text": [
      "EPOCH: 14\n",
      "Training Loss: 0.0596395983759846  | Validation Loss: 0.07464595809578896\n"
     ]
    },
    {
     "name": "stderr",
     "output_type": "stream",
     "text": [
      "100%|█████████████████████████████████████████████████████████████████████████████████| 42/42 [00:00<00:00, 123.35it/s]\n"
     ]
    },
    {
     "name": "stdout",
     "output_type": "stream",
     "text": [
      "EPOCH: 15\n",
      "Training Loss: 0.059312384542343874  | Validation Loss: 0.10197704508900643\n"
     ]
    },
    {
     "name": "stderr",
     "output_type": "stream",
     "text": [
      "100%|█████████████████████████████████████████████████████████████████████████████████| 42/42 [00:00<00:00, 132.91it/s]\n"
     ]
    },
    {
     "name": "stdout",
     "output_type": "stream",
     "text": [
      "EPOCH: 16\n",
      "Training Loss: 0.05184782535902092  | Validation Loss: 0.08115520179271699\n"
     ]
    },
    {
     "name": "stderr",
     "output_type": "stream",
     "text": [
      "100%|█████████████████████████████████████████████████████████████████████████████████| 42/42 [00:00<00:00, 122.09it/s]\n"
     ]
    },
    {
     "name": "stdout",
     "output_type": "stream",
     "text": [
      "EPOCH: 17\n",
      "Training Loss: 0.04577197586851461  | Validation Loss: 0.09495070204138756\n"
     ]
    },
    {
     "name": "stderr",
     "output_type": "stream",
     "text": [
      "100%|█████████████████████████████████████████████████████████████████████████████████| 42/42 [00:00<00:00, 130.64it/s]\n"
     ]
    },
    {
     "name": "stdout",
     "output_type": "stream",
     "text": [
      "EPOCH: 18\n",
      "Training Loss: 0.04138136819182407  | Validation Loss: 0.07830380499362946\n"
     ]
    },
    {
     "name": "stderr",
     "output_type": "stream",
     "text": [
      "100%|█████████████████████████████████████████████████████████████████████████████████| 42/42 [00:00<00:00, 109.09it/s]\n"
     ]
    },
    {
     "name": "stdout",
     "output_type": "stream",
     "text": [
      "EPOCH: 19\n",
      "Training Loss: 0.04031723278153333  | Validation Loss: 0.0775583915412426\n"
     ]
    },
    {
     "name": "stderr",
     "output_type": "stream",
     "text": [
      "100%|█████████████████████████████████████████████████████████████████████████████████| 42/42 [00:00<00:00, 130.44it/s]\n"
     ]
    },
    {
     "name": "stdout",
     "output_type": "stream",
     "text": [
      "EPOCH: 20\n",
      "Training Loss: 0.03476245566049502  | Validation Loss: 0.0954616166651249\n",
      "Time to Train: 0:00:07.133502\n"
     ]
    },
    {
     "data": {
      "image/png": "[encoded data removed]",
      "text/plain": [
       "<Figure size 1100x400 with 3 Axes>"
      ]
     },
     "metadata": {},
     "output_type": "display_data"
    }
   ],
   "source": [
    "base_housingModel = copy.deepcopy(housingModel)\n",
    "ComplexHousingTrainer = ModelTrainer(base_housingModel, nn.MSELoss(), torch.optim.SGD(base_housingModel.parameters(), lr=config.lr, momentum=0.9), nn.MSELoss(), \"Regression\",  config.device)\n",
    "\n",
    "t0 = datetime.now()\n",
    "\n",
    "ComplexHousingTrainer.fit(trainLoaderHousing, validateLoaderHousing, config.EPOCHS)\n",
    "t1 = datetime.now()\n",
    "\n",
    "print(\"Time to Train:\", t1 - t0)\n",
    "ComplexHousingTrainer.model.to(\"cpu\")\n",
    "ComplexHousingTrainer.Graph_Metrics()"
   ]
  },
  {
   "cell_type": "markdown",
   "id": "b21dc4f8-b4ed-4e8b-b79d-0c2ed7ed1d09",
   "metadata": {},
   "source": [
    "### How about the model complexity comparison and training time?\n",
    "The different models, the lecture model and the complex model. The complex model showed higher accuacury "
   ]
  },
  {
   "cell_type": "markdown",
   "id": "25dfb692-15ed-4134-b4b4-d77d24189cc9",
   "metadata": {},
   "source": [
    "### 2.c How about exploring options for weight decay and dropout over the more complex model? 10pts"
   ]
  },
  {
   "cell_type": "code",
   "execution_count": 42,
   "id": "65494c0a-5234-44af-a688-f508ceea857b",
   "metadata": {
    "scrolled": true,
    "tags": []
   },
   "outputs": [
    {
     "name": "stderr",
     "output_type": "stream",
     "text": [
      "100%|█████████████████████████████████████████████████████████████████████████████████| 42/42 [00:00<00:00, 114.13it/s]\n"
     ]
    },
    {
     "name": "stdout",
     "output_type": "stream",
     "text": [
      "EPOCH: 1\n",
      "Training Loss: 0.9697980923312051  | Validation Loss: 0.8237460732460022\n"
     ]
    },
    {
     "name": "stderr",
     "output_type": "stream",
     "text": [
      "100%|█████████████████████████████████████████████████████████████████████████████████| 42/42 [00:00<00:00, 116.35it/s]\n"
     ]
    },
    {
     "name": "stdout",
     "output_type": "stream",
     "text": [
      "EPOCH: 2\n",
      "Training Loss: 0.48849658641432014  | Validation Loss: 0.7445569634437561\n"
     ]
    },
    {
     "name": "stderr",
     "output_type": "stream",
     "text": [
      "100%|█████████████████████████████████████████████████████████████████████████████████| 42/42 [00:00<00:00, 121.56it/s]\n"
     ]
    },
    {
     "name": "stdout",
     "output_type": "stream",
     "text": [
      "EPOCH: 3\n",
      "Training Loss: 0.25149856560996603  | Validation Loss: 0.13867366015911103\n"
     ]
    },
    {
     "name": "stderr",
     "output_type": "stream",
     "text": [
      "100%|█████████████████████████████████████████████████████████████████████████████████| 42/42 [00:00<00:00, 118.14it/s]\n"
     ]
    },
    {
     "name": "stdout",
     "output_type": "stream",
     "text": [
      "EPOCH: 4\n",
      "Training Loss: 0.19178472029133922  | Validation Loss: 0.1257820799946785\n"
     ]
    },
    {
     "name": "stderr",
     "output_type": "stream",
     "text": [
      "100%|█████████████████████████████████████████████████████████████████████████████████| 42/42 [00:00<00:00, 119.32it/s]\n"
     ]
    },
    {
     "name": "stdout",
     "output_type": "stream",
     "text": [
      "EPOCH: 5\n",
      "Training Loss: 0.19862719980024157  | Validation Loss: 0.1205750659108162\n"
     ]
    },
    {
     "name": "stderr",
     "output_type": "stream",
     "text": [
      "100%|█████████████████████████████████████████████████████████████████████████████████| 42/42 [00:00<00:00, 109.38it/s]\n"
     ]
    },
    {
     "name": "stdout",
     "output_type": "stream",
     "text": [
      "EPOCH: 6\n",
      "Training Loss: 0.17933562025427818  | Validation Loss: 0.1265287548303604\n"
     ]
    },
    {
     "name": "stderr",
     "output_type": "stream",
     "text": [
      "100%|█████████████████████████████████████████████████████████████████████████████████| 42/42 [00:00<00:00, 132.91it/s]\n"
     ]
    },
    {
     "name": "stdout",
     "output_type": "stream",
     "text": [
      "EPOCH: 7\n",
      "Training Loss: 0.15019178807380654  | Validation Loss: 0.10276509225368499\n"
     ]
    },
    {
     "name": "stderr",
     "output_type": "stream",
     "text": [
      "100%|█████████████████████████████████████████████████████████████████████████████████| 42/42 [00:00<00:00, 132.91it/s]\n"
     ]
    },
    {
     "name": "stdout",
     "output_type": "stream",
     "text": [
      "EPOCH: 8\n",
      "Training Loss: 0.2099103398088898  | Validation Loss: 0.1330026850104332\n"
     ]
    },
    {
     "name": "stderr",
     "output_type": "stream",
     "text": [
      "100%|█████████████████████████████████████████████████████████████████████████████████| 42/42 [00:00<00:00, 136.59it/s]\n"
     ]
    },
    {
     "name": "stdout",
     "output_type": "stream",
     "text": [
      "EPOCH: 9\n",
      "Training Loss: 0.1755870707732226  | Validation Loss: 0.12138722389936447\n"
     ]
    },
    {
     "name": "stderr",
     "output_type": "stream",
     "text": [
      "100%|█████████████████████████████████████████████████████████████████████████████████| 42/42 [00:00<00:00, 134.40it/s]\n"
     ]
    },
    {
     "name": "stdout",
     "output_type": "stream",
     "text": [
      "EPOCH: 10\n",
      "Training Loss: 0.12154135724440926  | Validation Loss: 0.08991838991641998\n"
     ]
    },
    {
     "name": "stderr",
     "output_type": "stream",
     "text": [
      "100%|█████████████████████████████████████████████████████████████████████████████████| 42/42 [00:00<00:00, 137.48it/s]\n"
     ]
    },
    {
     "name": "stdout",
     "output_type": "stream",
     "text": [
      "EPOCH: 11\n",
      "Training Loss: 0.1063853558152914  | Validation Loss: 0.07862920202314853\n"
     ]
    },
    {
     "name": "stderr",
     "output_type": "stream",
     "text": [
      "100%|█████████████████████████████████████████████████████████████████████████████████| 42/42 [00:00<00:00, 125.56it/s]\n"
     ]
    },
    {
     "name": "stdout",
     "output_type": "stream",
     "text": [
      "EPOCH: 12\n",
      "Training Loss: 0.10625244654892456  | Validation Loss: 0.08194376826286316\n"
     ]
    },
    {
     "name": "stderr",
     "output_type": "stream",
     "text": [
      "100%|█████████████████████████████████████████████████████████████████████████████████| 42/42 [00:00<00:00, 137.26it/s]\n"
     ]
    },
    {
     "name": "stdout",
     "output_type": "stream",
     "text": [
      "EPOCH: 13\n",
      "Training Loss: 0.09248706308149156  | Validation Loss: 0.08388991057872772\n"
     ]
    },
    {
     "name": "stderr",
     "output_type": "stream",
     "text": [
      "100%|█████████████████████████████████████████████████████████████████████████████████| 42/42 [00:00<00:00, 134.83it/s]\n"
     ]
    },
    {
     "name": "stdout",
     "output_type": "stream",
     "text": [
      "EPOCH: 14\n",
      "Training Loss: 0.09037228296732619  | Validation Loss: 0.0783226665109396\n"
     ]
    },
    {
     "name": "stderr",
     "output_type": "stream",
     "text": [
      "100%|█████████████████████████████████████████████████████████████████████████████████| 42/42 [00:00<00:00, 133.97it/s]\n"
     ]
    },
    {
     "name": "stdout",
     "output_type": "stream",
     "text": [
      "EPOCH: 15\n",
      "Training Loss: 0.07962730628926129  | Validation Loss: 0.09069651812314987\n"
     ]
    },
    {
     "name": "stderr",
     "output_type": "stream",
     "text": [
      "100%|█████████████████████████████████████████████████████████████████████████████████| 42/42 [00:00<00:00, 137.93it/s]\n"
     ]
    },
    {
     "name": "stdout",
     "output_type": "stream",
     "text": [
      "EPOCH: 16\n",
      "Training Loss: 0.0860767848346205  | Validation Loss: 0.0949533797800541\n"
     ]
    },
    {
     "name": "stderr",
     "output_type": "stream",
     "text": [
      "100%|█████████████████████████████████████████████████████████████████████████████████| 42/42 [00:00<00:00, 129.23it/s]\n"
     ]
    },
    {
     "name": "stdout",
     "output_type": "stream",
     "text": [
      "EPOCH: 17\n",
      "Training Loss: 0.07264238651952751  | Validation Loss: 0.08699187338352203\n"
     ]
    },
    {
     "name": "stderr",
     "output_type": "stream",
     "text": [
      "100%|█████████████████████████████████████████████████████████████████████████████████| 42/42 [00:00<00:00, 129.43it/s]\n"
     ]
    },
    {
     "name": "stdout",
     "output_type": "stream",
     "text": [
      "EPOCH: 18\n",
      "Training Loss: 0.06902188142495495  | Validation Loss: 0.08561644926667214\n"
     ]
    },
    {
     "name": "stderr",
     "output_type": "stream",
     "text": [
      "100%|█████████████████████████████████████████████████████████████████████████████████| 42/42 [00:00<00:00, 121.21it/s]\n"
     ]
    },
    {
     "name": "stdout",
     "output_type": "stream",
     "text": [
      "EPOCH: 19\n",
      "Training Loss: 0.06253024230578116  | Validation Loss: 0.08175139725208283\n"
     ]
    },
    {
     "name": "stderr",
     "output_type": "stream",
     "text": [
      "100%|█████████████████████████████████████████████████████████████████████████████████| 42/42 [00:00<00:00, 120.69it/s]\n"
     ]
    },
    {
     "name": "stdout",
     "output_type": "stream",
     "text": [
      "EPOCH: 20\n",
      "Training Loss: 0.05983178960602908  | Validation Loss: 0.0929573118686676\n",
      "Time to Train: 0:00:07.133502\n"
     ]
    },
    {
     "data": {
      "image/png": "[encoded data removed]",
      "text/plain": [
       "<Figure size 1100x400 with 3 Axes>"
      ]
     },
     "metadata": {},
     "output_type": "display_data"
    }
   ],
   "source": [
    "drop_decay_housingModel = copy.deepcopy(housingModel)\n",
    "drop_decay_housingModel.Dropout = True\n",
    "\n",
    "DropHousingTrainer = ModelTrainer(drop_decay_housingModel, nn.MSELoss(), torch.optim.SGD(drop_decay_housingModel.parameters(), lr=config.lr, momentum=0.9, weight_decay=0.0001), nn.MSELoss(), \"Regression\",  config.device)\n",
    "\n",
    "DropHousingTrainer.fit(trainLoaderHousing, validateLoaderHousing, config.EPOCHS)\n",
    "\n",
    "print(\"Time to Train:\", t1 - t0)\n",
    "DropHousingTrainer.model.to(\"cpu\")\n",
    "DropHousingTrainer.Graph_Metrics()"
   ]
  },
  {
   "cell_type": "markdown",
   "id": "4b912a42-3a35-4d4b-a57f-49198d4848e6",
   "metadata": {},
   "source": [
    "### Please plot the results and compare them against 2.b\n",
    "Very similar in pattern however the generalization gap is much smaller in the weight decayed and dropout model"
   ]
  },
  {
   "cell_type": "code",
   "execution_count": 24,
   "id": "b4f23936-e17a-41d4-873f-95f119fc994f",
   "metadata": {},
   "outputs": [],
   "source": [
    "DropHousingTrainer.model.Dropout = False\n",
    "DropHousingTrainer.model.unNormalize = True\n",
    "torch.save(DropHousingTrainer.model.state_dict(), 'DropHousing.pt')"
   ]
  },
  {
   "cell_type": "code",
   "execution_count": 41,
   "id": "5a8a95fd-b11d-47f7-8121-218f24c15cb5",
   "metadata": {},
   "outputs": [
    {
     "name": "stdout",
     "output_type": "stream",
     "text": [
      "torch.Size([1459, 331])\n",
      "torch.Size([1459]) (1459,)\n"
     ]
    },
    {
     "data": {
      "text/html": [
       "<div>\n",
       "<style scoped>\n",
       "    .dataframe tbody tr th:only-of-type {\n",
       "        vertical-align: middle;\n",
       "    }\n",
       "\n",
       "    .dataframe tbody tr th {\n",
       "        vertical-align: top;\n",
       "    }\n",
       "\n",
       "    .dataframe thead th {\n",
       "        text-align: right;\n",
       "    }\n",
       "</style>\n",
       "<table border=\"1\" class=\"dataframe\">\n",
       "  <thead>\n",
       "    <tr style=\"text-align: right;\">\n",
       "      <th></th>\n",
       "      <th>Id</th>\n",
       "      <th>SalePrice</th>\n",
       "    </tr>\n",
       "  </thead>\n",
       "  <tbody>\n",
       "    <tr>\n",
       "      <th>0</th>\n",
       "      <td>1461</td>\n",
       "      <td>120301.617188</td>\n",
       "    </tr>\n",
       "    <tr>\n",
       "      <th>1</th>\n",
       "      <td>1462</td>\n",
       "      <td>141822.093750</td>\n",
       "    </tr>\n",
       "    <tr>\n",
       "      <th>2</th>\n",
       "      <td>1463</td>\n",
       "      <td>184861.390625</td>\n",
       "    </tr>\n",
       "    <tr>\n",
       "      <th>3</th>\n",
       "      <td>1464</td>\n",
       "      <td>194178.781250</td>\n",
       "    </tr>\n",
       "    <tr>\n",
       "      <th>4</th>\n",
       "      <td>1465</td>\n",
       "      <td>181809.578125</td>\n",
       "    </tr>\n",
       "    <tr>\n",
       "      <th>...</th>\n",
       "      <td>...</td>\n",
       "      <td>...</td>\n",
       "    </tr>\n",
       "    <tr>\n",
       "      <th>1454</th>\n",
       "      <td>2915</td>\n",
       "      <td>94027.078125</td>\n",
       "    </tr>\n",
       "    <tr>\n",
       "      <th>1455</th>\n",
       "      <td>2916</td>\n",
       "      <td>94215.593750</td>\n",
       "    </tr>\n",
       "    <tr>\n",
       "      <th>1456</th>\n",
       "      <td>2917</td>\n",
       "      <td>173767.671875</td>\n",
       "    </tr>\n",
       "    <tr>\n",
       "      <th>1457</th>\n",
       "      <td>2918</td>\n",
       "      <td>116028.640625</td>\n",
       "    </tr>\n",
       "    <tr>\n",
       "      <th>1458</th>\n",
       "      <td>2919</td>\n",
       "      <td>215338.578125</td>\n",
       "    </tr>\n",
       "  </tbody>\n",
       "</table>\n",
       "<p>1459 rows × 2 columns</p>\n",
       "</div>"
      ],
      "text/plain": [
       "        Id      SalePrice\n",
       "0     1461  120301.617188\n",
       "1     1462  141822.093750\n",
       "2     1463  184861.390625\n",
       "3     1464  194178.781250\n",
       "4     1465  181809.578125\n",
       "...    ...            ...\n",
       "1454  2915   94027.078125\n",
       "1455  2916   94215.593750\n",
       "1456  2917  173767.671875\n",
       "1457  2918  116028.640625\n",
       "1458  2919  215338.578125\n",
       "\n",
       "[1459 rows x 2 columns]"
      ]
     },
     "metadata": {},
     "output_type": "display_data"
    }
   ],
   "source": [
    "preds = torch.tensor(pro_test_csv.values, dtype=torch.float32)\n",
    "print(preds.shape)\n",
    "DropHousingTrainer.model.eval()\n",
    "kagglePredictions = DropHousingTrainer.model(preds).reshape(-1)\n",
    "print(kagglePredictions.shape, test_csv.Id.shape)\n",
    "submission = pd.DataFrame({'Id': test_csv.Id,'SalePrice':kagglePredictions.detach().numpy()})\n",
    "display(submission)\n",
    "submission.to_csv('submission.csv', index=False)"
   ]
  },
  {
   "cell_type": "markdown",
   "id": "4c7194f1-8427-4b75-b3e5-0a771959f64f",
   "metadata": {},
   "source": [
    "### Submission Result 5pts\n",
    "#### 815/3932"
   ]
  },
  {
   "attachments": {
    "96276625-b525-4f11-8d4a-26eb3aed8050.PNG": {
     "image/png": "[encoded data removed]"
    }
   },
   "cell_type": "markdown",
   "id": "16b3f2c3-ce92-44a8-9735-305760d2ac5d",
   "metadata": {},
   "source": [
    "![Capture.PNG](attachment:96276625-b525-4f11-8d4a-26eb3aed8050.PNG)"
   ]
  },
  {
   "cell_type": "code",
   "execution_count": null,
   "id": "c7e45510-992e-412b-8f7b-e1a33aee446c",
   "metadata": {},
   "outputs": [],
   "source": []
  }
 ],
 "metadata": {
  "kernelspec": {
   "display_name": "Python 3 (ipykernel)",
   "language": "python",
   "name": "python3"
  },
  "language_info": {
   "codemirror_mode": {
    "name": "ipython",
    "version": 3
   },
   "file_extension": ".py",
   "mimetype": "text/x-python",
   "name": "python",
   "nbconvert_exporter": "python",
   "pygments_lexer": "ipython3",
   "version": "3.10.9"
  }
 },
 "nbformat": 4,
 "nbformat_minor": 5
}
